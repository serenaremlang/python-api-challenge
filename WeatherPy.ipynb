{
 "cells": [
  {
   "cell_type": "markdown",
   "metadata": {},
   "source": [
    "# WeatherPy\n",
    "----\n",
    "\n",
    "#### Note\n",
    "* Instructions have been included for each segment. You do not have to follow them exactly, but they are included to help you think through the steps."
   ]
  },
  {
   "cell_type": "code",
   "execution_count": 5,
   "metadata": {
    "scrolled": true
   },
   "outputs": [],
   "source": [
    "# Dependencies and Setup\n",
    "import matplotlib.pyplot as plt\n",
    "import pandas as pd\n",
    "import numpy as np\n",
    "import json\n",
    "import requests\n",
    "import time\n",
    "from scipy.stats import linregress\n",
    "\n",
    "# Import API key\n",
    "from api_keys import weather_api_key\n",
    "\n",
    "# Incorporated citipy to determine city based on latitude and longitude\n",
    "from citipy import citipy\n",
    "\n",
    "# Output File (CSV)\n",
    "output_data_file = \"output_data/cities.csv\"\n",
    "\n",
    "# Range of latitudes and longitudes\n",
    "lat_range = (-90, 90)\n",
    "lng_range = (-180, 180)"
   ]
  },
  {
   "cell_type": "markdown",
   "metadata": {},
   "source": [
    "## Generate Cities List"
   ]
  },
  {
   "cell_type": "code",
   "execution_count": 6,
   "metadata": {},
   "outputs": [
    {
     "data": {
      "text/plain": [
       "629"
      ]
     },
     "execution_count": 6,
     "metadata": {},
     "output_type": "execute_result"
    }
   ],
   "source": [
    "# List for holding lat_lngs and cities\n",
    "lat_lngs = []\n",
    "cities = []\n",
    "\n",
    "# Create a set of random lat and lng combinations\n",
    "lats = np.random.uniform(lat_range[0], lat_range[1], size=1500)\n",
    "lngs = np.random.uniform(lng_range[0], lng_range[1], size=1500)\n",
    "lat_lngs = zip(lats, lngs)\n",
    "\n",
    "# Identify nearest city for each lat, lng combination\n",
    "for lat_lng in lat_lngs:\n",
    "    city = citipy.nearest_city(lat_lng[0], lat_lng[1]).city_name\n",
    "    \n",
    "    # If the city is unique, then add it to a our cities list\n",
    "    if city not in cities:\n",
    "        cities.append(city)\n",
    "\n",
    "# Print the city count to confirm sufficient count\n",
    "len(cities)"
   ]
  },
  {
   "cell_type": "markdown",
   "metadata": {},
   "source": [
    "### Perform API Calls\n",
    "* Perform a weather check on each city using a series of successive API calls.\n",
    "* Include a print log of each city as it'sbeing processed (with the city number and city name).\n"
   ]
  },
  {
   "cell_type": "code",
   "execution_count": 7,
   "metadata": {},
   "outputs": [],
   "source": [
    "# Url for call\n",
    "url = \"http://api.openweathermap.org/data/2.5/weather?\"\n",
    "\n",
    "params = {'appid': weather_api_key,\n",
    "          'units': 'imperial'}"
   ]
  },
  {
   "cell_type": "code",
   "execution_count": null,
   "metadata": {},
   "outputs": [
    {
     "name": "stdout",
     "output_type": "stream",
     "text": [
      "Beginning Data Retrieval\n",
      "-----------------------------\n",
      "Processing Record 0 | Aklavik\n",
      "Processing Record 1 | Illoqqortoormiut\n",
      "City not found. Skipping...\n",
      "Processing Record 2 | Port Elizabeth\n",
      "Processing Record 3 | Shakawe\n",
      "Processing Record 4 | Butaritari\n",
      "Processing Record 5 | Port-Cartier\n",
      "Processing Record 6 | Hobyo\n",
      "Processing Record 7 | Vaini\n",
      "Processing Record 8 | Hermanus\n",
      "Processing Record 9 | Nizhneyansk\n",
      "City not found. Skipping...\n",
      "Processing Record 10 | Mataura\n",
      "Processing Record 11 | Ushuaia\n",
      "Processing Record 12 | Longyearbyen\n",
      "Processing Record 13 | Barrow\n",
      "Processing Record 14 | Nanortalik\n",
      "Processing Record 15 | Palmer\n",
      "Processing Record 16 | Boa Vista\n",
      "Processing Record 17 | Punta Arenas\n",
      "Processing Record 18 | Port Alfred\n",
      "Processing Record 19 | Beloha\n",
      "Processing Record 20 | Khonuu\n",
      "City not found. Skipping...\n",
      "Processing Record 21 | Busselton\n",
      "Processing Record 22 | Lata\n",
      "Processing Record 23 | Atuona\n",
      "Processing Record 24 | Jamestown\n",
      "Processing Record 25 | Rikitea\n",
      "Processing Record 26 | Dwarka\n",
      "Processing Record 27 | Port Lincoln\n",
      "Processing Record 28 | Skalistyy\n",
      "City not found. Skipping...\n",
      "Processing Record 29 | Santiago Del Estero\n",
      "Processing Record 30 | Ocala\n",
      "Processing Record 31 | New Norfolk\n",
      "Processing Record 32 | Port Blair\n",
      "Processing Record 33 | Olinda\n",
      "Processing Record 34 | Saskylakh\n",
      "Processing Record 35 | Cayenne\n",
      "Processing Record 36 | Yellowknife\n",
      "Processing Record 37 | Mount Isa\n",
      "Processing Record 38 | Troitskoye\n",
      "Processing Record 39 | Belmonte\n",
      "Processing Record 40 | Leh\n",
      "Processing Record 41 | Kavali\n",
      "Processing Record 42 | Tabivere\n",
      "Processing Record 43 | Stornoway\n",
      "Processing Record 44 | Atambua\n",
      "Processing Record 45 | Vila Velha\n",
      "Processing Record 46 | Carnarvon\n",
      "Processing Record 47 | Dikson\n",
      "Processing Record 48 | Grand Gaube\n",
      "Processing Record 49 | Norman Wells\n",
      "Processing Record 50 | San Andres\n",
      "Processing Record 51 | Chara\n"
     ]
    }
   ],
   "source": [
    "# Initialize values for for loop - \n",
    "# counter to keep track of records for print statement and \n",
    "count = 0\n",
    "# empty list to store weather data to make into\n",
    "city_weather = []\n",
    "\n",
    "print(f'Beginning Data Retrieval')\n",
    "print('-----------------------------')\n",
    "\n",
    "# for loop to iterate through cities selected\n",
    "for city in cities:\n",
    "    print(f'Processing Record {count} | {city.title()}')\n",
    "\n",
    "    count += 1\n",
    "    # Set URL paramater for the location\n",
    "    params['q'] = city.title()\n",
    "    \n",
    "    # Exception handling - if city is not in OpenWeather API skip\n",
    "    try:\n",
    "        # Build query URL\n",
    "        weather_response = requests.get(url = url, params = params)\n",
    "        weather_data = weather_response.json()\n",
    "        \n",
    "        # Create dictionary for data from API call\n",
    "        weather = {}\n",
    "        \n",
    "        # Create key's and assign data to it based on API call\n",
    "        weather['City'] = city\n",
    "        weather['Lat'] = weather_data['coord']['lat']\n",
    "        weather['Lng'] = weather_data['coord']['lon']\n",
    "        weather['Max Temp'] = weather_data['main']['temp_max']\n",
    "        weather['Humidity'] = weather_data['main']['humidity']\n",
    "        weather['Cloudiness'] = weather_data['clouds']['all']\n",
    "        weather['Wind Speed'] = weather_data['wind']['speed']\n",
    "        weather['Country'] = weather_data['sys']['country']\n",
    "        weather['Date'] = weather_data['dt']\n",
    "        # Add dictionary to end of list\n",
    "        city_weather.append(weather)\n",
    "    except:\n",
    "        print(f'City not found. Skipping...')\n",
    "        continue\n",
    "\n",
    "\n",
    "print('-----------------------------')\n",
    "print('Data Retrieval Complete') \n",
    "print('-----------------------------')"
   ]
  },
  {
   "cell_type": "markdown",
   "metadata": {},
   "source": [
    "### Convert Raw Data to DataFrame\n",
    "* Export the city data into a .csv.\n",
    "* Display the DataFrame"
   ]
  },
  {
   "cell_type": "code",
   "execution_count": null,
   "metadata": {},
   "outputs": [],
   "source": [
    "# Create DataFrame with raw data (list of dictionaries) from API call\n",
    "city_weather_df = pd.DataFrame(city_weather)\n",
    "\n",
    "# Display DataFrame\n",
    "city_weather_df"
   ]
  },
  {
   "cell_type": "code",
   "execution_count": null,
   "metadata": {},
   "outputs": [],
   "source": [
    "# Round Lat and Lng to 2 decimal places\n",
    "city_weather_df['Lat'] = round(city_weather_df['Lat'],2)\n",
    "city_weather_df['Lng'] = round(city_weather_df['Lng'],2)\n",
    "\n",
    "city_weather_df"
   ]
  },
  {
   "cell_type": "code",
   "execution_count": null,
   "metadata": {},
   "outputs": [],
   "source": [
    "# Save DataFrame to .csv\n",
    "city_weather_df.to_csv('data/city_weather_data.csv')"
   ]
  },
  {
   "cell_type": "code",
   "execution_count": null,
   "metadata": {},
   "outputs": [],
   "source": [
    "# Create and Display summary DataFrame\n",
    "summary_df = city_weather_df.describe()\n",
    "summary_df"
   ]
  },
  {
   "cell_type": "markdown",
   "metadata": {},
   "source": [
    "## Inspect the data and remove the cities where the humidity > 100%.\n",
    "----\n",
    "Skip this step if there are no cities that have humidity > 100%. "
   ]
  },
  {
   "cell_type": "code",
   "execution_count": null,
   "metadata": {},
   "outputs": [],
   "source": []
  },
  {
   "cell_type": "code",
   "execution_count": null,
   "metadata": {},
   "outputs": [],
   "source": [
    "# Initializing count and empty list to store indexes\n",
    "count = 0\n",
    "humidity_indexes_to_drop = []\n",
    "\n",
    "# Find all Indexes with Humidity over 100%\n",
    "for value in city_weather_df['Humidity']:\n",
    "    if value > 100 == True:\n",
    "        humidity_indexes_to_drop.append(count)\n",
    "        count += 1\n",
    "    else:\n",
    "        count += 1\n",
    "\n",
    "# Display indexes to drop\n",
    "if humidity_indexes_to_drop == []:\n",
    "    print('Nothing to drop')\n",
    "else:\n",
    "    print(f'Drop indexes {humidity_indexes_to_drop}')\n"
   ]
  },
  {
   "cell_type": "code",
   "execution_count": null,
   "metadata": {},
   "outputs": [],
   "source": [
    "# Make a new DataFrame equal to the city data to drop all humidity outliers by index.\n",
    "# Passing \"inplace=False\" will make a copy of the city_data DataFrame, which we call \"clean_city_data\".\n",
    "\n",
    "#Skipped since no outlier values"
   ]
  },
  {
   "cell_type": "markdown",
   "metadata": {},
   "source": [
    "## Plotting the Data\n",
    "* Use proper labeling of the plots using plot titles (including date of analysis) and axes labels.\n",
    "* Save the plotted figures as .pngs."
   ]
  },
  {
   "cell_type": "markdown",
   "metadata": {},
   "source": [
    "## Latitude vs. Temperature Plot"
   ]
  },
  {
   "cell_type": "code",
   "execution_count": null,
   "metadata": {
    "scrolled": true
   },
   "outputs": [],
   "source": [
    "x_values = city_weather_df['Lat']\n",
    "y_values = city_weather_df['Max Temp']\n",
    "plt.scatter(x_values,y_values, edgecolors=\"black\")\n",
    "plt.title('City Latitude vs. Temperature (09/27/21)')\n",
    "plt.xlabel('Latitude')\n",
    "plt.ylabel('Temperature (F)')\n",
    "plt.grid(b=True, axis='both')\n",
    "plt.tight_layout()\n",
    "plt.savefig(\"images/lat_temp.png\")\n",
    "plt.show()"
   ]
  },
  {
   "cell_type": "markdown",
   "metadata": {},
   "source": [
    "The above scatter plot shows the relationship between temperature and latitude. When latidute is equal to 0 you are at the equator which experiences the highest temperatures. Temperatures decrease as you go further North or South. This is likely a negative parabolic relationship."
   ]
  },
  {
   "cell_type": "markdown",
   "metadata": {},
   "source": [
    "## Latitude vs. Humidity Plot"
   ]
  },
  {
   "cell_type": "code",
   "execution_count": null,
   "metadata": {},
   "outputs": [],
   "source": [
    "x_values = city_weather_df['Lat']\n",
    "y_values = city_weather_df['Humidity']\n",
    "plt.scatter(x_values,y_values, edgecolors=\"black\")\n",
    "plt.title('City Latitude vs. Humidity (09/27/21)')\n",
    "plt.xlabel('Latitude')\n",
    "plt.ylabel('Humidity (%)')\n",
    "plt.grid(b=True, axis='both')\n",
    "plt.tight_layout()\n",
    "plt.savefig(\"images/lat_humidity.png\")\n",
    "plt.show()"
   ]
  },
  {
   "cell_type": "markdown",
   "metadata": {},
   "source": [
    "The above scatter plot shows the relationship between Latitude and humidity. This shows that at any latitude, based on the cities evaluated, you can have a wide range of humidity % with the majority of locations tending towards a higher humid index."
   ]
  },
  {
   "cell_type": "markdown",
   "metadata": {},
   "source": [
    "## Latitude vs. Cloudiness Plot"
   ]
  },
  {
   "cell_type": "code",
   "execution_count": null,
   "metadata": {},
   "outputs": [],
   "source": [
    "x_values = city_weather_df['Lat']\n",
    "y_values = city_weather_df['Cloudiness']\n",
    "plt.scatter(x_values,y_values, edgecolors=\"black\")\n",
    "plt.title('City Latitude vs. Cloudiness (09/27/21)')\n",
    "plt.xlabel('Latitude')\n",
    "plt.ylabel('Cloudiness (%)')\n",
    "plt.grid(b=True, axis='both')\n",
    "plt.tight_layout()\n",
    "plt.savefig(\"images/lat_cloudiness.png\")\n",
    "plt.show()"
   ]
  },
  {
   "cell_type": "markdown",
   "metadata": {},
   "source": [
    "The above scatter plot shows the relationship between Latitude and cloudiness. This shows that at any latitude, based on the cities evaluated, you can have a wide range of cloudiness. There is a slight tendancy for locations from -40 to -20 and 20 to 40 latitude to have low cloudiness, -20 to 20 and 40 to 60 to have very high cloudiness."
   ]
  },
  {
   "cell_type": "markdown",
   "metadata": {},
   "source": [
    "## Latitude vs. Wind Speed Plot"
   ]
  },
  {
   "cell_type": "code",
   "execution_count": null,
   "metadata": {},
   "outputs": [],
   "source": [
    "x_values = city_weather_df['Lat']\n",
    "y_values = city_weather_df['Wind Speed']\n",
    "plt.scatter(x_values,y_values, edgecolors=\"black\")\n",
    "plt.title('City Latitude vs. Wind Speed (09/27/21)')\n",
    "plt.xlabel('Latitude')\n",
    "plt.ylabel('Wind Speed (mph)')\n",
    "plt.grid(b=True, axis='both')\n",
    "plt.tight_layout()\n",
    "plt.savefig(\"images/lat_windspeed.png\")\n",
    "plt.show()"
   ]
  },
  {
   "cell_type": "markdown",
   "metadata": {},
   "source": [
    "The above scatter plot shows the relationship between Latitude and wind speeds. This shows that across all latitudes, wind speed does not tend to go aboce 25 mph in September for the citites selected. "
   ]
  },
  {
   "cell_type": "markdown",
   "metadata": {},
   "source": [
    "## Linear Regression"
   ]
  },
  {
   "cell_type": "code",
   "execution_count": null,
   "metadata": {},
   "outputs": [],
   "source": [
    "# Create bins for different Hemispheres\n",
    "bins = [-90, -.1, 90]\n",
    "\n",
    "group_names = ['Southern Hemisphere', 'Northern Hemisphere']\n",
    "\n",
    "city_weather_df[\"Hemisphere\"] = pd.cut(city_weather_df['Lat'], bins, \n",
    "                                  labels=group_names, include_lowest=True)\n",
    "\n",
    "#Filter by the bins\n",
    "north_df = city_weather_df[city_weather_df['Hemisphere']==\"Northern Hemisphere\"]\n",
    "south_df = city_weather_df[city_weather_df['Hemisphere']==\"Southern Hemisphere\"]"
   ]
  },
  {
   "cell_type": "markdown",
   "metadata": {},
   "source": [
    "####  Northern Hemisphere - Max Temp vs. Latitude Linear Regression"
   ]
  },
  {
   "cell_type": "code",
   "execution_count": null,
   "metadata": {},
   "outputs": [],
   "source": [
    "x_values = north_df['Lat']\n",
    "y_values = north_df['Max Temp']\n",
    "(slope, intercept, rvalue, pvalue, stderr) = linregress(x_values, y_values)\n",
    "regress_values = x_values * slope + intercept\n",
    "line_eq = \"y = \" + str(round(slope,2)) + \"x + \" + str(round(intercept,2))\n",
    "plt.scatter(x_values,y_values)\n",
    "plt.plot(x_values,regress_values,\"r-\")\n",
    "plt.annotate(line_eq,(10,40),fontsize=15,color=\"red\")\n",
    "plt.xlabel('Latitude')\n",
    "plt.ylabel('Max Temp (F)')\n",
    "print(f\"The r-value is: {rvalue}\")\n",
    "plt.savefig(\"images/north_lat_maxtemp_regression.png\")\n",
    "plt.show()"
   ]
  },
  {
   "cell_type": "markdown",
   "metadata": {},
   "source": [
    "This plot shows that temperature and latitude in the northern hemisphere has a strong negative coorelation. The further North you go away from the equater, the lower temperatures drop in the month of September."
   ]
  },
  {
   "cell_type": "markdown",
   "metadata": {},
   "source": [
    "####  Southern Hemisphere - Max Temp vs. Latitude Linear Regression"
   ]
  },
  {
   "cell_type": "code",
   "execution_count": null,
   "metadata": {},
   "outputs": [],
   "source": [
    "x_values = south_df['Lat']\n",
    "y_values = south_df['Max Temp']\n",
    "(slope, intercept, rvalue, pvalue, stderr) = linregress(x_values, y_values)\n",
    "regress_values = x_values * slope + intercept\n",
    "line_eq = \"y = \" + str(round(slope,2)) + \"x + \" + str(round(intercept,2))\n",
    "plt.scatter(x_values,y_values)\n",
    "plt.plot(x_values,regress_values,\"r-\")\n",
    "plt.annotate(line_eq,(-50,80),fontsize=15,color=\"red\")\n",
    "plt.xlabel('Latitude')\n",
    "plt.ylabel('Max Temp (F)')\n",
    "print(f\"The r-value is: {rvalue}\")\n",
    "plt.savefig(\"images/south_lat_maxtemp_regression.png\")\n",
    "plt.show()"
   ]
  },
  {
   "cell_type": "markdown",
   "metadata": {},
   "source": [
    "This plot shows that temperature and latitude in the southern hemisphere has a strong positive coorelation. The further North you go away from the equater, the lower temperatures drop in the month of September."
   ]
  },
  {
   "cell_type": "markdown",
   "metadata": {},
   "source": [
    "####  Northern Hemisphere - Humidity (%) vs. Latitude Linear Regression"
   ]
  },
  {
   "cell_type": "code",
   "execution_count": null,
   "metadata": {},
   "outputs": [],
   "source": [
    "x_values = north_df['Lat']\n",
    "y_values = north_df['Humidity']\n",
    "(slope, intercept, rvalue, pvalue, stderr) = linregress(x_values, y_values)\n",
    "regress_values = x_values * slope + intercept\n",
    "line_eq = \"y = \" + str(round(slope,2)) + \"x + \" + str(round(intercept,2))\n",
    "plt.scatter(x_values,y_values)\n",
    "plt.plot(x_values,regress_values,\"r-\")\n",
    "plt.annotate(line_eq,(10,40),fontsize=15,color=\"red\")\n",
    "plt.xlabel('Latitude')\n",
    "plt.ylabel('Humidity (%)')\n",
    "print(f\"The r-value is: {rvalue}\")\n",
    "plt.savefig(\"images/north_lat_humidity_regression.png\")\n",
    "plt.show()"
   ]
  },
  {
   "cell_type": "markdown",
   "metadata": {},
   "source": [
    "####  Southern Hemisphere - Humidity (%) vs. Latitude Linear Regression"
   ]
  },
  {
   "cell_type": "code",
   "execution_count": null,
   "metadata": {},
   "outputs": [],
   "source": [
    "x_values = south_df['Lat']\n",
    "y_values = south_df['Humidity']\n",
    "(slope, intercept, rvalue, pvalue, stderr) = linregress(x_values, y_values)\n",
    "regress_values = x_values * slope + intercept\n",
    "line_eq = \"y = \" + str(round(slope,2)) + \"x + \" + str(round(intercept,2))\n",
    "plt.scatter(x_values,y_values)\n",
    "plt.plot(x_values,regress_values,\"r-\")\n",
    "plt.annotate(line_eq,(10,40),fontsize=15,color=\"red\")\n",
    "plt.xlabel('Latitude')\n",
    "plt.ylabel('Humidity (%)')\n",
    "print(f\"The r-value is: {rvalue}\")\n",
    "plt.savefig(\"images/south_lat_humidity_regression.png\")\n",
    "plt.show()"
   ]
  },
  {
   "cell_type": "markdown",
   "metadata": {},
   "source": [
    "####  Northern Hemisphere - Cloudiness (%) vs. Latitude Linear Regression"
   ]
  },
  {
   "cell_type": "code",
   "execution_count": null,
   "metadata": {},
   "outputs": [],
   "source": [
    "x_values = north_df['Lat']\n",
    "y_values = north_df['Cloudiness']\n",
    "(slope, intercept, rvalue, pvalue, stderr) = linregress(x_values, y_values)\n",
    "regress_values = x_values * slope + intercept\n",
    "line_eq = \"y = \" + str(round(slope,2)) + \"x + \" + str(round(intercept,2))\n",
    "plt.scatter(x_values,y_values)\n",
    "plt.plot(x_values,regress_values,\"r-\")\n",
    "plt.annotate(line_eq,(10,40),fontsize=15,color=\"red\")\n",
    "plt.xlabel('Latitude')\n",
    "plt.ylabel('Cloudiness (%)')\n",
    "print(f\"The r-value is: {rvalue}\")\n",
    "plt.savefig(\"images/north_lat_cloudiness_regression.png\")\n",
    "plt.show()"
   ]
  },
  {
   "cell_type": "markdown",
   "metadata": {},
   "source": [
    "####  Southern Hemisphere - Cloudiness (%) vs. Latitude Linear Regression"
   ]
  },
  {
   "cell_type": "code",
   "execution_count": null,
   "metadata": {},
   "outputs": [],
   "source": [
    "x_values = south_df['Lat']\n",
    "y_values = south_df['Cloudiness']\n",
    "(slope, intercept, rvalue, pvalue, stderr) = linregress(x_values, y_values)\n",
    "regress_values = x_values * slope + intercept\n",
    "line_eq = \"y = \" + str(round(slope,2)) + \"x + \" + str(round(intercept,2))\n",
    "plt.scatter(x_values,y_values)\n",
    "plt.plot(x_values,regress_values,\"r-\")\n",
    "plt.annotate(line_eq,(10,40),fontsize=15,color=\"red\")\n",
    "plt.xlabel('Latitude')\n",
    "plt.ylabel('Cloudiness (%)')\n",
    "print(f\"The r-value is: {rvalue}\")\n",
    "plt.savefig(\"images/south_lat_cloudiness_regression.png\")\n",
    "plt.show()"
   ]
  },
  {
   "cell_type": "markdown",
   "metadata": {},
   "source": [
    "####  Northern Hemisphere - Wind Speed (mph) vs. Latitude Linear Regression"
   ]
  },
  {
   "cell_type": "code",
   "execution_count": null,
   "metadata": {},
   "outputs": [],
   "source": [
    "x_values = north_df['Lat']\n",
    "y_values = north_df['Wind Speed']\n",
    "(slope, intercept, rvalue, pvalue, stderr) = linregress(x_values, y_values)\n",
    "regress_values = x_values * slope + intercept\n",
    "line_eq = \"y = \" + str(round(slope,2)) + \"x + \" + str(round(intercept,2))\n",
    "plt.scatter(x_values,y_values)\n",
    "plt.plot(x_values,regress_values,\"r-\")\n",
    "plt.annotate(line_eq,(10,40),fontsize=15,color=\"red\")\n",
    "plt.xlabel('Latitude')\n",
    "plt.ylabel('Wind Speed (mph)')\n",
    "print(f\"The r-value is: {rvalue}\")\n",
    "plt.savefig(\"images/north_lat_windspeed_regression.png\")\n",
    "plt.show()"
   ]
  },
  {
   "cell_type": "markdown",
   "metadata": {},
   "source": [
    "####  Southern Hemisphere - Wind Speed (mph) vs. Latitude Linear Regression"
   ]
  },
  {
   "cell_type": "code",
   "execution_count": null,
   "metadata": {
    "scrolled": true
   },
   "outputs": [],
   "source": [
    "x_values = south_df['Lat']\n",
    "y_values = south_df['Wind Speed']\n",
    "(slope, intercept, rvalue, pvalue, stderr) = linregress(x_values, y_values)\n",
    "regress_values = x_values * slope + intercept\n",
    "line_eq = \"y = \" + str(round(slope,2)) + \"x + \" + str(round(intercept,2))\n",
    "plt.scatter(x_values,y_values)\n",
    "plt.plot(x_values,regress_values,\"r-\")\n",
    "plt.annotate(line_eq,(10,40),fontsize=15,color=\"red\")\n",
    "plt.xlabel('Latitude')\n",
    "plt.ylabel('Wind Speed (mph)')\n",
    "print(f\"The r-value is: {rvalue}\")\n",
    "plt.savefig(\"images/south_lat_windspeed_regression.png\")\n",
    "plt.show()"
   ]
  },
  {
   "cell_type": "code",
   "execution_count": null,
   "metadata": {},
   "outputs": [],
   "source": []
  }
 ],
 "metadata": {
  "anaconda-cloud": {},
  "interpreter": {
   "hash": "66e4560b95297e5c2e289fb05a81335740d597e4ed373eede18019de1ec624e0"
  },
  "kernel_info": {
   "name": "python3"
  },
  "kernelspec": {
   "display_name": "Python 3",
   "language": "python",
   "name": "python3"
  },
  "language_info": {
   "codemirror_mode": {
    "name": "ipython",
    "version": 3
   },
   "file_extension": ".py",
   "mimetype": "text/x-python",
   "name": "python",
   "nbconvert_exporter": "python",
   "pygments_lexer": "ipython3",
   "version": "3.6.13"
  },
  "latex_envs": {
   "LaTeX_envs_menu_present": true,
   "autoclose": false,
   "autocomplete": true,
   "bibliofile": "biblio.bib",
   "cite_by": "apalike",
   "current_citInitial": 1,
   "eqLabelWithNumbers": true,
   "eqNumInitial": 1,
   "hotkeys": {
    "equation": "Ctrl-E",
    "itemize": "Ctrl-I"
   },
   "labels_anchors": false,
   "latex_user_defs": false,
   "report_style_numbering": false,
   "user_envs_cfg": false
  },
  "nteract": {
   "version": "0.12.3"
  }
 },
 "nbformat": 4,
 "nbformat_minor": 2
}
