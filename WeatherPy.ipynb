{
 "cells": [
  {
   "cell_type": "markdown",
   "metadata": {},
   "source": [
    "# WeatherPy\n",
    "----\n",
    "\n",
    "#### Note\n",
    "* Instructions have been included for each segment. You do not have to follow them exactly, but they are included to help you think through the steps."
   ]
  },
  {
   "cell_type": "code",
   "execution_count": 5,
   "metadata": {
    "scrolled": true
   },
   "outputs": [],
   "source": [
    "# Dependencies and Setup\n",
    "import matplotlib.pyplot as plt\n",
    "import pandas as pd\n",
    "import numpy as np\n",
    "import json\n",
    "import requests\n",
    "import time\n",
    "from scipy.stats import linregress\n",
    "\n",
    "# Import API key\n",
    "from api_keys import weather_api_key\n",
    "\n",
    "# Incorporated citipy to determine city based on latitude and longitude\n",
    "from citipy import citipy\n",
    "\n",
    "# Output File (CSV)\n",
    "output_data_file = \"output_data/cities.csv\"\n",
    "\n",
    "# Range of latitudes and longitudes\n",
    "lat_range = (-90, 90)\n",
    "lng_range = (-180, 180)"
   ]
  },
  {
   "cell_type": "markdown",
   "metadata": {},
   "source": [
    "## Generate Cities List"
   ]
  },
  {
   "cell_type": "code",
   "execution_count": 6,
   "metadata": {},
   "outputs": [
    {
     "data": {
      "text/plain": [
       "629"
      ]
     },
     "execution_count": 6,
     "metadata": {},
     "output_type": "execute_result"
    }
   ],
   "source": [
    "# List for holding lat_lngs and cities\n",
    "lat_lngs = []\n",
    "cities = []\n",
    "\n",
    "# Create a set of random lat and lng combinations\n",
    "lats = np.random.uniform(lat_range[0], lat_range[1], size=1500)\n",
    "lngs = np.random.uniform(lng_range[0], lng_range[1], size=1500)\n",
    "lat_lngs = zip(lats, lngs)\n",
    "\n",
    "# Identify nearest city for each lat, lng combination\n",
    "for lat_lng in lat_lngs:\n",
    "    city = citipy.nearest_city(lat_lng[0], lat_lng[1]).city_name\n",
    "    \n",
    "    # If the city is unique, then add it to a our cities list\n",
    "    if city not in cities:\n",
    "        cities.append(city)\n",
    "\n",
    "# Print the city count to confirm sufficient count\n",
    "len(cities)"
   ]
  },
  {
   "cell_type": "markdown",
   "metadata": {},
   "source": [
    "### Perform API Calls\n",
    "* Perform a weather check on each city using a series of successive API calls.\n",
    "* Include a print log of each city as it'sbeing processed (with the city number and city name).\n"
   ]
  },
  {
   "cell_type": "code",
   "execution_count": 7,
   "metadata": {},
   "outputs": [],
   "source": [
    "# Url for call\n",
    "url = \"http://api.openweathermap.org/data/2.5/weather?\"\n",
    "\n",
    "params = {'appid': weather_api_key,\n",
    "          'units': 'imperial'}"
   ]
  },
  {
   "cell_type": "code",
   "execution_count": 8,
   "metadata": {},
   "outputs": [
    {
     "name": "stdout",
     "output_type": "stream",
     "text": [
      "Beginning Data Retrieval\n",
      "-----------------------------\n",
      "Processing Record 0 | Aklavik\n",
      "Processing Record 1 | Illoqqortoormiut\n",
      "City not found. Skipping...\n",
      "Processing Record 2 | Port Elizabeth\n",
      "Processing Record 3 | Shakawe\n",
      "Processing Record 4 | Butaritari\n",
      "Processing Record 5 | Port-Cartier\n",
      "Processing Record 6 | Hobyo\n",
      "Processing Record 7 | Vaini\n",
      "Processing Record 8 | Hermanus\n",
      "Processing Record 9 | Nizhneyansk\n",
      "City not found. Skipping...\n",
      "Processing Record 10 | Mataura\n",
      "Processing Record 11 | Ushuaia\n",
      "Processing Record 12 | Longyearbyen\n",
      "Processing Record 13 | Barrow\n",
      "Processing Record 14 | Nanortalik\n",
      "Processing Record 15 | Palmer\n",
      "Processing Record 16 | Boa Vista\n",
      "Processing Record 17 | Punta Arenas\n",
      "Processing Record 18 | Port Alfred\n",
      "Processing Record 19 | Beloha\n",
      "Processing Record 20 | Khonuu\n",
      "City not found. Skipping...\n",
      "Processing Record 21 | Busselton\n",
      "Processing Record 22 | Lata\n",
      "Processing Record 23 | Atuona\n",
      "Processing Record 24 | Jamestown\n",
      "Processing Record 25 | Rikitea\n",
      "Processing Record 26 | Dwarka\n",
      "Processing Record 27 | Port Lincoln\n",
      "Processing Record 28 | Skalistyy\n",
      "City not found. Skipping...\n",
      "Processing Record 29 | Santiago Del Estero\n",
      "Processing Record 30 | Ocala\n",
      "Processing Record 31 | New Norfolk\n",
      "Processing Record 32 | Port Blair\n",
      "Processing Record 33 | Olinda\n",
      "Processing Record 34 | Saskylakh\n",
      "Processing Record 35 | Cayenne\n",
      "Processing Record 36 | Yellowknife\n",
      "Processing Record 37 | Mount Isa\n",
      "Processing Record 38 | Troitskoye\n",
      "Processing Record 39 | Belmonte\n",
      "Processing Record 40 | Leh\n",
      "Processing Record 41 | Kavali\n",
      "Processing Record 42 | Tabivere\n",
      "Processing Record 43 | Stornoway\n",
      "Processing Record 44 | Atambua\n",
      "Processing Record 45 | Vila Velha\n",
      "Processing Record 46 | Carnarvon\n",
      "Processing Record 47 | Dikson\n",
      "Processing Record 48 | Grand Gaube\n",
      "Processing Record 49 | Norman Wells\n",
      "Processing Record 50 | San Andres\n",
      "Processing Record 51 | Chara\n",
      "Processing Record 52 | Cap Malheureux\n",
      "Processing Record 53 | Margate\n",
      "Processing Record 54 | Sao Filipe\n",
      "Processing Record 55 | Altamira\n",
      "Processing Record 56 | Hobart\n",
      "Processing Record 57 | Saldanha\n",
      "Processing Record 58 | Bredasdorp\n",
      "Processing Record 59 | Madang\n",
      "Processing Record 60 | Galle\n",
      "Processing Record 61 | Lebu\n",
      "Processing Record 62 | Hilo\n",
      "Processing Record 63 | Roebourne\n",
      "Processing Record 64 | Atocha\n",
      "Processing Record 65 | Amderma\n",
      "City not found. Skipping...\n",
      "Processing Record 66 | Fortuna\n",
      "Processing Record 67 | Santo Antonio Do Ica\n",
      "Processing Record 68 | Hay River\n",
      "Processing Record 69 | Puerto Cabezas\n",
      "Processing Record 70 | Riviere-Au-Renard\n",
      "Processing Record 71 | Mys Shmidta\n",
      "City not found. Skipping...\n",
      "Processing Record 72 | Ponta Do Sol\n",
      "Processing Record 73 | Saint Anthony\n",
      "Processing Record 74 | Adrar\n",
      "Processing Record 75 | Aswan\n",
      "Processing Record 76 | Lorengau\n",
      "Processing Record 77 | Avarua\n",
      "Processing Record 78 | Victoria\n",
      "Processing Record 79 | Ribeira Grande\n",
      "Processing Record 80 | Tasiilaq\n",
      "Processing Record 81 | Hovd\n",
      "Processing Record 82 | Lolua\n",
      "City not found. Skipping...\n",
      "Processing Record 83 | Bhag\n",
      "Processing Record 84 | Lahaina\n",
      "Processing Record 85 | Magadi\n",
      "Processing Record 86 | Devonport\n",
      "Processing Record 87 | Kiama\n",
      "Processing Record 88 | San Patricio\n",
      "Processing Record 89 | Ponta Delgada\n",
      "Processing Record 90 | Rochefort\n",
      "Processing Record 91 | Taolanaro\n",
      "City not found. Skipping...\n",
      "Processing Record 92 | Hofn\n",
      "Processing Record 93 | Kabinda\n",
      "Processing Record 94 | Vostok\n",
      "Processing Record 95 | Umm Lajj\n",
      "Processing Record 96 | Cape Town\n",
      "Processing Record 97 | Hohhot\n",
      "Processing Record 98 | Touros\n",
      "Processing Record 99 | Wagar\n",
      "Processing Record 100 | Sakyla\n",
      "Processing Record 101 | Sentyabrskiy\n",
      "City not found. Skipping...\n",
      "Processing Record 102 | Gushikawa\n",
      "Processing Record 103 | Namibe\n",
      "Processing Record 104 | Kavaratti\n",
      "Processing Record 105 | Bluff\n",
      "Processing Record 106 | Black River\n",
      "Processing Record 107 | Ghanzi\n",
      "Processing Record 108 | Riyadh\n",
      "Processing Record 109 | Morondava\n",
      "Processing Record 110 | Klaksvik\n",
      "Processing Record 111 | Bowen\n",
      "Processing Record 112 | Kudahuvadhoo\n",
      "Processing Record 113 | Airai\n",
      "Processing Record 114 | Katsuura\n",
      "Processing Record 115 | Farah\n",
      "Processing Record 116 | Miraflores\n",
      "Processing Record 117 | Kathu\n",
      "Processing Record 118 | Muscat\n",
      "Processing Record 119 | Lasa\n",
      "Processing Record 120 | Barentsburg\n",
      "City not found. Skipping...\n",
      "Processing Record 121 | Flin Flon\n",
      "Processing Record 122 | Crab Hill\n",
      "City not found. Skipping...\n",
      "Processing Record 123 | Vao\n",
      "Processing Record 124 | Honningsvag\n",
      "Processing Record 125 | Albany\n",
      "Processing Record 126 | Qaanaaq\n",
      "Processing Record 127 | Rabak\n",
      "Processing Record 128 | Hithadhoo\n",
      "Processing Record 129 | Mehamn\n",
      "Processing Record 130 | Aksarka\n",
      "Processing Record 131 | Taywarah\n",
      "Processing Record 132 | Coahuayana\n",
      "Processing Record 133 | Belyy Yar\n",
      "Processing Record 134 | Agnibilekrou\n",
      "Processing Record 135 | Quatre Cocos\n",
      "Processing Record 136 | Ramon\n",
      "Processing Record 137 | Ringebu\n",
      "Processing Record 138 | Zyryanka\n",
      "Processing Record 139 | Hamilton\n",
      "Processing Record 140 | Santa Luzia\n",
      "Processing Record 141 | Auki\n",
      "Processing Record 142 | Fare\n",
      "Processing Record 143 | Novoagansk\n",
      "Processing Record 144 | Yumen\n",
      "Processing Record 145 | Alghero\n",
      "Processing Record 146 | Saint George\n",
      "Processing Record 147 | La Palma\n",
      "Processing Record 148 | Cajamarca\n",
      "Processing Record 149 | Saint-Philippe\n",
      "Processing Record 150 | Komsomolskiy\n",
      "Processing Record 151 | Souillac\n",
      "Processing Record 152 | Mergui\n",
      "City not found. Skipping...\n",
      "Processing Record 153 | Nikolskoye\n",
      "Processing Record 154 | Turbat\n",
      "Processing Record 155 | Kabarnet\n",
      "Processing Record 156 | Macieira De Cambra\n",
      "Processing Record 157 | Tarime\n",
      "Processing Record 158 | Baruun-Urt\n",
      "Processing Record 159 | Cabo San Lucas\n",
      "Processing Record 160 | Puerto Ayora\n",
      "Processing Record 161 | Usinsk\n",
      "Processing Record 162 | Talnakh\n",
      "Processing Record 163 | Bathsheba\n",
      "Processing Record 164 | Trairi\n",
      "Processing Record 165 | Esna\n",
      "Processing Record 166 | Georgetown\n",
      "Processing Record 167 | Azar Shahr\n",
      "City not found. Skipping...\n",
      "Processing Record 168 | Yanam\n",
      "Processing Record 169 | Bur Gabo\n",
      "City not found. Skipping...\n",
      "Processing Record 170 | Ambilobe\n",
      "Processing Record 171 | Dingle\n",
      "Processing Record 172 | Hernani\n",
      "Processing Record 173 | Halifax\n",
      "Processing Record 174 | Henties Bay\n",
      "Processing Record 175 | Ghotki\n",
      "Processing Record 176 | Huarmey\n",
      "Processing Record 177 | Nabire\n",
      "Processing Record 178 | Richards Bay\n",
      "Processing Record 179 | Chokurdakh\n",
      "Processing Record 180 | Seydi\n",
      "Processing Record 181 | Suntar\n",
      "Processing Record 182 | Warqla\n",
      "City not found. Skipping...\n",
      "Processing Record 183 | Sangar\n",
      "Processing Record 184 | Kapaa\n",
      "Processing Record 185 | Rock Springs\n",
      "Processing Record 186 | Saleaula\n",
      "City not found. Skipping...\n",
      "Processing Record 187 | Belushya Guba\n",
      "City not found. Skipping...\n",
      "Processing Record 188 | Bitung\n",
      "Processing Record 189 | Bengkulu\n",
      "Processing Record 190 | Varkaus\n",
      "Processing Record 191 | Imeni Morozova\n",
      "Processing Record 192 | Khatanga\n",
      "Processing Record 193 | Chorley\n",
      "Processing Record 194 | San Quintin\n",
      "Processing Record 195 | Mwinilunga\n",
      "Processing Record 196 | Babu\n",
      "Processing Record 197 | Bon Accord\n",
      "Processing Record 198 | Sur\n",
      "Processing Record 199 | Cam Pha\n",
      "City not found. Skipping...\n",
      "Processing Record 200 | Esperance\n",
      "Processing Record 201 | Alofi\n",
      "Processing Record 202 | Kuala Krai\n",
      "City not found. Skipping...\n",
      "Processing Record 203 | North Bend\n",
      "Processing Record 204 | Simoes\n",
      "Processing Record 205 | Comodoro Rivadavia\n",
      "Processing Record 206 | Kavieng\n",
      "Processing Record 207 | Kralendijk\n",
      "Processing Record 208 | Udachnyy\n",
      "Processing Record 209 | Labuhan\n",
      "Processing Record 210 | Havelock\n",
      "Processing Record 211 | Vaitupu\n",
      "City not found. Skipping...\n",
      "Processing Record 212 | Mazagao\n",
      "Processing Record 213 | Castro\n",
      "Processing Record 214 | Maghama\n",
      "City not found. Skipping...\n",
      "Processing Record 215 | Suoyarvi\n",
      "Processing Record 216 | Lavrentiya\n",
      "Processing Record 217 | Santa Cruz De La Palma\n",
      "Processing Record 218 | Mahebourg\n",
      "Processing Record 219 | Manaus\n",
      "Processing Record 220 | Eyl\n",
      "Processing Record 221 | Hays\n",
      "Processing Record 222 | Bicaz Chei\n",
      "Processing Record 223 | Pilar Do Sul\n",
      "Processing Record 224 | Saint-Die\n",
      "City not found. Skipping...\n",
      "Processing Record 225 | San Juan\n",
      "Processing Record 226 | Tongchuan\n",
      "Processing Record 227 | Petropavlovsk-Kamchatskiy\n",
      "Processing Record 228 | East London\n",
      "Processing Record 229 | Alta Floresta\n"
     ]
    },
    {
     "name": "stdout",
     "output_type": "stream",
     "text": [
      "Processing Record 230 | Arraial Do Cabo\n",
      "Processing Record 231 | Pacific Grove\n",
      "Processing Record 232 | Svetlogorsk\n",
      "Processing Record 233 | Aden\n",
      "Processing Record 234 | Ilulissat\n",
      "Processing Record 235 | Kamaishi\n",
      "Processing Record 236 | Zhangye\n",
      "Processing Record 237 | Karaul\n",
      "City not found. Skipping...\n",
      "Processing Record 238 | Cherskiy\n",
      "Processing Record 239 | Praia\n",
      "Processing Record 240 | Puerto Baquerizo Moreno\n",
      "Processing Record 241 | Yarmouth\n",
      "Processing Record 242 | Ngukurr\n",
      "City not found. Skipping...\n",
      "Processing Record 243 | Strezhevoy\n",
      "Processing Record 244 | Iqaluit\n",
      "Processing Record 245 | Kirakira\n",
      "Processing Record 246 | Butia\n",
      "Processing Record 247 | Vaitape\n",
      "Processing Record 248 | Chuy\n",
      "Processing Record 249 | Sinnar\n",
      "Processing Record 250 | Genhe\n",
      "Processing Record 251 | Parintins\n",
      "Processing Record 252 | Jiddah\n",
      "City not found. Skipping...\n",
      "Processing Record 253 | Kruisfontein\n",
      "Processing Record 254 | Kaitangata\n",
      "Processing Record 255 | Husavik\n",
      "Processing Record 256 | Faya\n",
      "Processing Record 257 | Nhulunbuy\n",
      "Processing Record 258 | Bandarbeyla\n",
      "Processing Record 259 | Swan Hill\n",
      "Processing Record 260 | Bathurst\n",
      "Processing Record 261 | Luganville\n",
      "Processing Record 262 | Tarauaca\n",
      "Processing Record 263 | Ampanihy\n",
      "Processing Record 264 | Hasaki\n",
      "Processing Record 265 | Mtwara\n",
      "Processing Record 266 | Caravelas\n",
      "Processing Record 267 | Hailar\n",
      "Processing Record 268 | Benicarlo\n",
      "Processing Record 269 | Karratha\n",
      "Processing Record 270 | Florianopolis\n",
      "Processing Record 271 | Faanui\n",
      "Processing Record 272 | Sao Joao Da Barra\n",
      "Processing Record 273 | Mangit\n",
      "Processing Record 274 | Samusu\n",
      "City not found. Skipping...\n",
      "Processing Record 275 | Falealupo\n",
      "City not found. Skipping...\n",
      "Processing Record 276 | Antofagasta\n",
      "Processing Record 277 | Dicabisagan\n",
      "Processing Record 278 | Geraldton\n",
      "Processing Record 279 | Tuktoyaktuk\n",
      "Processing Record 280 | Bereznik\n",
      "Processing Record 281 | Bantry\n",
      "Processing Record 282 | Port Hardy\n",
      "Processing Record 283 | Okha\n",
      "Processing Record 284 | Thompson\n",
      "Processing Record 285 | Moramanga\n",
      "Processing Record 286 | Xiongzhou\n",
      "Processing Record 287 | Senanga\n",
      "Processing Record 288 | Shenjiamen\n",
      "Processing Record 289 | Anderson\n",
      "Processing Record 290 | Zaozerne\n",
      "Processing Record 291 | Kyaiklat\n",
      "Processing Record 292 | Hambantota\n",
      "Processing Record 293 | Kyren\n",
      "Processing Record 294 | Paka\n",
      "Processing Record 295 | Yulara\n",
      "Processing Record 296 | Maine-Soroa\n",
      "Processing Record 297 | Provideniya\n",
      "Processing Record 298 | Polyarnyy\n",
      "Processing Record 299 | Pangnirtung\n",
      "Processing Record 300 | Ossora\n",
      "Processing Record 301 | Coolum Beach\n",
      "Processing Record 302 | Baculin\n",
      "Processing Record 303 | Axim\n",
      "Processing Record 304 | Kodiak\n",
      "Processing Record 305 | Bethel\n",
      "Processing Record 306 | Clyde River\n",
      "Processing Record 307 | Presidencia Roque Saenz Pena\n",
      "Processing Record 308 | Itanhem\n",
      "Processing Record 309 | College\n",
      "Processing Record 310 | Bilma\n",
      "Processing Record 311 | Kenai\n",
      "Processing Record 312 | Yar-Sale\n",
      "Processing Record 313 | Zwedru\n",
      "Processing Record 314 | Victor Harbor\n",
      "Processing Record 315 | Zweibrucken\n",
      "Processing Record 316 | Visnes\n",
      "Processing Record 317 | Gizo\n",
      "Processing Record 318 | Araouane\n",
      "Processing Record 319 | Guider\n",
      "Processing Record 320 | Cidreira\n",
      "Processing Record 321 | Zalakomar\n",
      "Processing Record 322 | Xuddur\n",
      "Processing Record 323 | Tual\n",
      "Processing Record 324 | Toliary\n",
      "City not found. Skipping...\n",
      "Processing Record 325 | Bonavista\n",
      "Processing Record 326 | Hashtrud\n",
      "Processing Record 327 | Sabang\n",
      "Processing Record 328 | Lodja\n",
      "Processing Record 329 | Inhambane\n",
      "Processing Record 330 | Vila Franca Do Campo\n",
      "Processing Record 331 | Carlisle\n",
      "Processing Record 332 | Floro\n",
      "Processing Record 333 | Mar Del Plata\n",
      "Processing Record 334 | Solnechnyy\n",
      "Processing Record 335 | Drayton Valley\n",
      "Processing Record 336 | Tilichiki\n",
      "Processing Record 337 | Nizwa\n",
      "Processing Record 338 | Constitucion\n",
      "Processing Record 339 | Tsihombe\n",
      "City not found. Skipping...\n",
      "Processing Record 340 | Oum Hadjer\n",
      "Processing Record 341 | Frontera\n",
      "Processing Record 342 | Correntina\n",
      "Processing Record 343 | Beyneu\n",
      "Processing Record 344 | Fonte Boa\n",
      "Processing Record 345 | Vestmannaeyjar\n",
      "Processing Record 346 | Rockport\n",
      "Processing Record 347 | Kitob\n",
      "Processing Record 348 | Kahului\n",
      "Processing Record 349 | Vilhena\n",
      "Processing Record 350 | Santa Isabel Do Rio Negro\n",
      "Processing Record 351 | Kokopo\n",
      "Processing Record 352 | Marrakesh\n",
      "Processing Record 353 | Whitehorse\n",
      "Processing Record 354 | Jaguaruna\n",
      "Processing Record 355 | Myitkyina\n",
      "Processing Record 356 | Skibbereen\n",
      "Processing Record 357 | The Valley\n",
      "Processing Record 358 | Vardo\n",
      "Processing Record 359 | Pirot\n",
      "Processing Record 360 | Bhainsa\n",
      "Processing Record 361 | Pevek\n",
      "Processing Record 362 | Peniche\n",
      "Processing Record 363 | Derby\n",
      "Processing Record 364 | Thinadhoo\n",
      "Processing Record 365 | Ovalle\n",
      "Processing Record 366 | Uruzgan\n",
      "Processing Record 367 | Yichun\n",
      "Processing Record 368 | Altos\n",
      "Processing Record 369 | Deputatskiy\n",
      "Processing Record 370 | Yirol\n",
      "City not found. Skipping...\n",
      "Processing Record 371 | Isangel\n",
      "Processing Record 372 | Coruripe\n",
      "Processing Record 373 | Stepnyak\n",
      "Processing Record 374 | Tiarei\n",
      "Processing Record 375 | Santana Do Matos\n",
      "Processing Record 376 | Miyako\n",
      "Processing Record 377 | Paradwip\n",
      "City not found. Skipping...\n",
      "Processing Record 378 | Bonthe\n",
      "Processing Record 379 | Ostrovnoy\n",
      "Processing Record 380 | Luderitz\n",
      "Processing Record 381 | Los Llanos De Aridane\n",
      "Processing Record 382 | Upernavik\n",
      "Processing Record 383 | Fort Saint John\n",
      "City not found. Skipping...\n",
      "Processing Record 384 | Son La\n",
      "Processing Record 385 | Coquimbo\n",
      "Processing Record 386 | Moose Factory\n",
      "Processing Record 387 | Dunkirk\n",
      "Processing Record 388 | Lompoc\n",
      "Processing Record 389 | Tiksi\n",
      "Processing Record 390 | Voh\n",
      "Processing Record 391 | Kushima\n",
      "Processing Record 392 | Dunedin\n",
      "Processing Record 393 | Pindiga\n",
      "Processing Record 394 | Tabas\n",
      "Processing Record 395 | Seoul\n",
      "Processing Record 396 | Dzhusaly\n",
      "City not found. Skipping...\n",
      "Processing Record 397 | Luanda\n",
      "Processing Record 398 | Timbiqui\n",
      "Processing Record 399 | Ixtapa\n",
      "Processing Record 400 | Lagoa\n",
      "Processing Record 401 | Vangaindrano\n",
      "Processing Record 402 | La Rochelle\n",
      "Processing Record 403 | Grindavik\n",
      "Processing Record 404 | Mbacke\n",
      "City not found. Skipping...\n",
      "Processing Record 405 | Shache\n",
      "Processing Record 406 | Dilla\n",
      "Processing Record 407 | Narsaq\n",
      "Processing Record 408 | San Rafael\n",
      "Processing Record 409 | Torbay\n",
      "Processing Record 410 | Aitape\n",
      "Processing Record 411 | Dubovskoye\n",
      "Processing Record 412 | Nouadhibou\n",
      "Processing Record 413 | Terrace\n",
      "Processing Record 414 | Nanakuli\n",
      "Processing Record 415 | Sehithwa\n",
      "Processing Record 416 | Simpang Empat\n",
      "Processing Record 417 | Pisco\n",
      "Processing Record 418 | Padang\n",
      "Processing Record 419 | Malanje\n",
      "Processing Record 420 | Galesong\n",
      "Processing Record 421 | Yanan\n",
      "City not found. Skipping...\n",
      "Processing Record 422 | Urdzhar\n",
      "City not found. Skipping...\n",
      "Processing Record 423 | Caluquembe\n",
      "Processing Record 424 | Boyolangu\n",
      "Processing Record 425 | Alice Springs\n",
      "Processing Record 426 | Shima\n",
      "Processing Record 427 | Iringa\n",
      "Processing Record 428 | Manokwari\n",
      "Processing Record 429 | Sorvag\n",
      "City not found. Skipping...\n",
      "Processing Record 430 | Soderhamn\n",
      "Processing Record 431 | Kloulklubed\n",
      "Processing Record 432 | Gravdal\n",
      "Processing Record 433 | Tumannyy\n",
      "City not found. Skipping...\n",
      "Processing Record 434 | Oktyabrskiy\n",
      "Processing Record 435 | Elda\n",
      "Processing Record 436 | Sitka\n",
      "Processing Record 437 | Port Hedland\n",
      "Processing Record 438 | Cururupu\n",
      "Processing Record 439 | Hami\n",
      "Processing Record 440 | Bousso\n",
      "Processing Record 441 | Nador\n",
      "Processing Record 442 | La Ronge\n",
      "Processing Record 443 | Taoudenni\n",
      "Processing Record 444 | Swellendam\n",
      "Processing Record 445 | San Jeronimo\n",
      "Processing Record 446 | Shimanovsk\n",
      "Processing Record 447 | Tateyama\n",
      "Processing Record 448 | Kjollefjord\n",
      "Processing Record 449 | Seddon\n",
      "Processing Record 450 | Severo-Kurilsk\n",
      "Processing Record 451 | Utiroa\n",
      "City not found. Skipping...\n",
      "Processing Record 452 | Amahai\n",
      "Processing Record 453 | Rawson\n",
      "Processing Record 454 | Deloraine\n",
      "Processing Record 455 | Miquelon\n",
      "Processing Record 456 | Sioux Lookout\n",
      "Processing Record 457 | Alexandria\n",
      "Processing Record 458 | San Francisco\n",
      "Processing Record 459 | Elizabeth City\n",
      "Processing Record 460 | Mae Sot\n",
      "Processing Record 461 | Gulu\n"
     ]
    },
    {
     "name": "stdout",
     "output_type": "stream",
     "text": [
      "Processing Record 462 | Batagay\n",
      "Processing Record 463 | Savinskiy\n",
      "Processing Record 464 | Bira\n",
      "Processing Record 465 | Camargo\n",
      "Processing Record 466 | Lircay\n",
      "Processing Record 467 | Moree\n",
      "Processing Record 468 | Marystown\n",
      "Processing Record 469 | Coihaique\n",
      "Processing Record 470 | Nyimba\n",
      "Processing Record 471 | Tortosa\n",
      "Processing Record 472 | Khanpur\n",
      "Processing Record 473 | Siguiri\n",
      "Processing Record 474 | Salalah\n",
      "Processing Record 475 | Marcona\n",
      "City not found. Skipping...\n",
      "Processing Record 476 | Saraland\n",
      "Processing Record 477 | Chernyshevskiy\n",
      "Processing Record 478 | Nome\n",
      "Processing Record 479 | Laguna\n",
      "Processing Record 480 | Mweka\n",
      "Processing Record 481 | Yamada\n",
      "Processing Record 482 | Berlevag\n",
      "Processing Record 483 | Russell\n",
      "Processing Record 484 | Blairmore\n",
      "Processing Record 485 | San Policarpo\n",
      "Processing Record 486 | Pinega\n",
      "Processing Record 487 | Broome\n",
      "Processing Record 488 | Waw\n",
      "Processing Record 489 | Sembe\n",
      "Processing Record 490 | Atuntaqui\n",
      "Processing Record 491 | Rongcheng\n",
      "Processing Record 492 | Guicheng\n",
      "City not found. Skipping...\n",
      "Processing Record 493 | Aksha\n",
      "Processing Record 494 | Kerkira\n",
      "City not found. Skipping...\n",
      "Processing Record 495 | Tawkar\n",
      "City not found. Skipping...\n",
      "Processing Record 496 | Shadegan\n",
      "Processing Record 497 | Stonewall\n",
      "Processing Record 498 | Vanimo\n",
      "Processing Record 499 | Along\n",
      "Processing Record 500 | Chumikan\n",
      "Processing Record 501 | Vina Del Mar\n",
      "Processing Record 502 | Teya\n",
      "Processing Record 503 | Kuhdasht\n",
      "Processing Record 504 | Valdivia\n",
      "Processing Record 505 | Attawapiskat\n",
      "City not found. Skipping...\n",
      "Processing Record 506 | Ootmarsum\n",
      "Processing Record 507 | Okhotsk\n",
      "Processing Record 508 | Saint-Georges\n",
      "Processing Record 509 | Ayan\n",
      "Processing Record 510 | Auxerre\n",
      "Processing Record 511 | Mount Gambier\n",
      "Processing Record 512 | Te Anau\n",
      "Processing Record 513 | Mackenzie\n",
      "Processing Record 514 | Batticaloa\n",
      "Processing Record 515 | Koumac\n",
      "Processing Record 516 | Vung Tau\n",
      "Processing Record 517 | Praia Da Vitoria\n",
      "Processing Record 518 | Maniitsoq\n",
      "Processing Record 519 | Nkhotakota\n",
      "Processing Record 520 | Nioro\n",
      "Processing Record 521 | Ewa Beach\n",
      "Processing Record 522 | Bentong\n",
      "Processing Record 523 | Saryshagan\n",
      "City not found. Skipping...\n",
      "Processing Record 524 | Ibra\n",
      "Processing Record 525 | Fort Nelson\n",
      "Processing Record 526 | Tigil\n",
      "Processing Record 527 | Pelym\n",
      "Processing Record 528 | Mount Darwin\n",
      "Processing Record 529 | Petrolina\n",
      "Processing Record 530 | Pangai\n",
      "Processing Record 531 | Ketchikan\n",
      "Processing Record 532 | Canutama\n",
      "Processing Record 533 | Yaan\n",
      "Processing Record 534 | Itarema\n",
      "Processing Record 535 | Tabou\n",
      "Processing Record 536 | Byron Bay\n",
      "Processing Record 537 | Urfa\n",
      "City not found. Skipping...\n",
      "Processing Record 538 | El Sauzal\n",
      "Processing Record 539 | Viligili\n",
      "City not found. Skipping...\n",
      "Processing Record 540 | Tevaitoa\n",
      "Processing Record 541 | Cockburn Harbour\n",
      "City not found. Skipping...\n",
      "Processing Record 542 | Moron\n",
      "Processing Record 543 | Lac Du Bonnet\n",
      "Processing Record 544 | Xichang\n",
      "Processing Record 545 | Kalachinsk\n",
      "Processing Record 546 | Ardabil\n",
      "Processing Record 547 | Kundiawa\n",
      "Processing Record 548 | Cabedelo\n",
      "Processing Record 549 | Ulaangom\n",
      "Processing Record 550 | Fontem\n",
      "Processing Record 551 | Eregli\n",
      "Processing Record 552 | Balikpapan\n",
      "Processing Record 553 | Ayios Kirikos\n",
      "City not found. Skipping...\n",
      "Processing Record 554 | Natal\n",
      "Processing Record 555 | Killybegs\n",
      "Processing Record 556 | Mitsamiouli\n",
      "Processing Record 557 | Bubaque\n",
      "Processing Record 558 | Kirya\n",
      "Processing Record 559 | Abu Dhabi\n",
      "Processing Record 560 | Soyo\n",
      "Processing Record 561 | Moerai\n",
      "Processing Record 562 | Gamboma\n",
      "Processing Record 563 | Naze\n",
      "Processing Record 564 | Sernur\n",
      "Processing Record 565 | Sorland\n",
      "Processing Record 566 | Grand River South East\n",
      "City not found. Skipping...\n",
      "Processing Record 567 | Isabela\n",
      "Processing Record 568 | Nalobikha\n",
      "Processing Record 569 | Normandin\n",
      "Processing Record 570 | Kilosa\n",
      "Processing Record 571 | Kargasok\n",
      "Processing Record 572 | Torremolinos\n",
      "Processing Record 573 | La Roda\n",
      "Processing Record 574 | Yeletskiy\n",
      "City not found. Skipping...\n",
      "Processing Record 575 | Langarud\n",
      "Processing Record 576 | Codrington\n",
      "Processing Record 577 | Nishihara\n",
      "Processing Record 578 | Divisoria\n",
      "Processing Record 579 | Matay\n",
      "Processing Record 580 | Jaguaribe\n",
      "Processing Record 581 | Concepcion Del Uruguay\n",
      "Processing Record 582 | Rawannawi\n",
      "City not found. Skipping...\n",
      "Processing Record 583 | Tuy Hoa\n",
      "Processing Record 584 | Qaracala\n",
      "Processing Record 585 | Buala\n",
      "Processing Record 586 | Phan Thiet\n",
      "Processing Record 587 | Sept-Iles\n",
      "Processing Record 588 | Arraias\n",
      "Processing Record 589 | Haines Junction\n",
      "Processing Record 590 | Ramanuj Ganj\n",
      "Processing Record 591 | Ust-Maya\n",
      "Processing Record 592 | Kayseri\n",
      "Processing Record 593 | Poum\n",
      "Processing Record 594 | Terra Santa\n",
      "Processing Record 595 | Gurskoye\n",
      "City not found. Skipping...\n",
      "Processing Record 596 | Price\n",
      "Processing Record 597 | Timra\n",
      "Processing Record 598 | Tandil\n",
      "Processing Record 599 | Baykit\n",
      "Processing Record 600 | Muisne\n",
      "Processing Record 601 | Lagos\n",
      "Processing Record 602 | Stephenville\n",
      "Processing Record 603 | Kununurra\n",
      "Processing Record 604 | Ankang\n",
      "Processing Record 605 | Sabzevar\n",
      "Processing Record 606 | Bima\n",
      "Processing Record 607 | Saint-Augustin\n",
      "Processing Record 608 | Roald\n",
      "Processing Record 609 | Zabol\n",
      "Processing Record 610 | Doka\n",
      "Processing Record 611 | Grevesmuhlen\n",
      "Processing Record 612 | Khakhea\n",
      "Processing Record 613 | Tautira\n",
      "Processing Record 614 | Karlskrona\n",
      "Processing Record 615 | Wakkanai\n",
      "Processing Record 616 | Kurumkan\n",
      "Processing Record 617 | Pokanayevka\n",
      "City not found. Skipping...\n",
      "Processing Record 618 | Harnosand\n",
      "Processing Record 619 | Srednekolymsk\n",
      "Processing Record 620 | Dwarahat\n",
      "Processing Record 621 | Haukipudas\n",
      "Processing Record 622 | Tessalit\n",
      "Processing Record 623 | Gamba\n",
      "Processing Record 624 | Pingdu\n",
      "Processing Record 625 | Palabuhanratu\n",
      "City not found. Skipping...\n",
      "Processing Record 626 | Capitao Poco\n",
      "Processing Record 627 | Mulchen\n",
      "Processing Record 628 | Kieta\n",
      "-----------------------------\n",
      "Data Retrieval Complete\n",
      "-----------------------------\n"
     ]
    }
   ],
   "source": [
    "# Initialize values for for loop - \n",
    "# counter to keep track of records for print statement and \n",
    "count = 0\n",
    "# empty list to store weather data to make into\n",
    "city_weather = []\n",
    "\n",
    "print(f'Beginning Data Retrieval')\n",
    "print('-----------------------------')\n",
    "\n",
    "# for loop to iterate through cities selected\n",
    "for city in cities:\n",
    "    print(f'Processing Record {count} | {city.title()}')\n",
    "\n",
    "    count += 1\n",
    "    # Set URL paramater for the location\n",
    "    params['q'] = city.title()\n",
    "    \n",
    "    # Exception handling - if city is not in OpenWeather API skip\n",
    "    try:\n",
    "        # Build query URL\n",
    "        weather_response = requests.get(url = url, params = params)\n",
    "        weather_data = weather_response.json()\n",
    "        \n",
    "        # Create dictionary for data from API call\n",
    "        weather = {}\n",
    "        \n",
    "        # Create key's and assign data to it based on API call\n",
    "        weather['City'] = city\n",
    "        weather['Lat'] = weather_data['coord']['lat']\n",
    "        weather['Lng'] = weather_data['coord']['lon']\n",
    "        weather['Max Temp'] = weather_data['main']['temp_max']\n",
    "        weather['Humidity'] = weather_data['main']['humidity']\n",
    "        weather['Cloudiness'] = weather_data['clouds']['all']\n",
    "        weather['Wind Speed'] = weather_data['wind']['speed']\n",
    "        weather['Country'] = weather_data['sys']['country']\n",
    "        weather['Date'] = weather_data['dt']\n",
    "        # Add dictionary to end of list\n",
    "        city_weather.append(weather)\n",
    "    except:\n",
    "        print(f'City not found. Skipping...')\n",
    "        continue\n",
    "\n",
    "\n",
    "print('-----------------------------')\n",
    "print('Data Retrieval Complete') \n",
    "print('-----------------------------')"
   ]
  },
  {
   "cell_type": "markdown",
   "metadata": {},
   "source": [
    "### Convert Raw Data to DataFrame\n",
    "* Export the city data into a .csv.\n",
    "* Display the DataFrame"
   ]
  },
  {
   "cell_type": "code",
   "execution_count": 9,
   "metadata": {},
   "outputs": [
    {
     "data": {
      "text/html": [
       "<div>\n",
       "<style scoped>\n",
       "    .dataframe tbody tr th:only-of-type {\n",
       "        vertical-align: middle;\n",
       "    }\n",
       "\n",
       "    .dataframe tbody tr th {\n",
       "        vertical-align: top;\n",
       "    }\n",
       "\n",
       "    .dataframe thead th {\n",
       "        text-align: right;\n",
       "    }\n",
       "</style>\n",
       "<table border=\"1\" class=\"dataframe\">\n",
       "  <thead>\n",
       "    <tr style=\"text-align: right;\">\n",
       "      <th></th>\n",
       "      <th>City</th>\n",
       "      <th>Lat</th>\n",
       "      <th>Lng</th>\n",
       "      <th>Max Temp</th>\n",
       "      <th>Humidity</th>\n",
       "      <th>Cloudiness</th>\n",
       "      <th>Wind Speed</th>\n",
       "      <th>Country</th>\n",
       "      <th>Date</th>\n",
       "    </tr>\n",
       "  </thead>\n",
       "  <tbody>\n",
       "    <tr>\n",
       "      <th>0</th>\n",
       "      <td>aklavik</td>\n",
       "      <td>68.2191</td>\n",
       "      <td>-135.0107</td>\n",
       "      <td>32.83</td>\n",
       "      <td>93</td>\n",
       "      <td>100</td>\n",
       "      <td>20.76</td>\n",
       "      <td>CA</td>\n",
       "      <td>1632887227</td>\n",
       "    </tr>\n",
       "    <tr>\n",
       "      <th>1</th>\n",
       "      <td>port elizabeth</td>\n",
       "      <td>-33.9180</td>\n",
       "      <td>25.5701</td>\n",
       "      <td>57.49</td>\n",
       "      <td>72</td>\n",
       "      <td>0</td>\n",
       "      <td>11.50</td>\n",
       "      <td>ZA</td>\n",
       "      <td>1632887016</td>\n",
       "    </tr>\n",
       "    <tr>\n",
       "      <th>2</th>\n",
       "      <td>shakawe</td>\n",
       "      <td>-18.3667</td>\n",
       "      <td>21.8500</td>\n",
       "      <td>66.34</td>\n",
       "      <td>25</td>\n",
       "      <td>21</td>\n",
       "      <td>5.84</td>\n",
       "      <td>BW</td>\n",
       "      <td>1632887228</td>\n",
       "    </tr>\n",
       "    <tr>\n",
       "      <th>3</th>\n",
       "      <td>butaritari</td>\n",
       "      <td>3.0707</td>\n",
       "      <td>172.7902</td>\n",
       "      <td>83.28</td>\n",
       "      <td>74</td>\n",
       "      <td>73</td>\n",
       "      <td>18.34</td>\n",
       "      <td>KI</td>\n",
       "      <td>1632886986</td>\n",
       "    </tr>\n",
       "    <tr>\n",
       "      <th>4</th>\n",
       "      <td>port-cartier</td>\n",
       "      <td>50.0334</td>\n",
       "      <td>-66.8654</td>\n",
       "      <td>43.75</td>\n",
       "      <td>82</td>\n",
       "      <td>93</td>\n",
       "      <td>4.32</td>\n",
       "      <td>CA</td>\n",
       "      <td>1632887229</td>\n",
       "    </tr>\n",
       "    <tr>\n",
       "      <th>...</th>\n",
       "      <td>...</td>\n",
       "      <td>...</td>\n",
       "      <td>...</td>\n",
       "      <td>...</td>\n",
       "      <td>...</td>\n",
       "      <td>...</td>\n",
       "      <td>...</td>\n",
       "      <td>...</td>\n",
       "      <td>...</td>\n",
       "    </tr>\n",
       "    <tr>\n",
       "      <th>569</th>\n",
       "      <td>gamba</td>\n",
       "      <td>-2.6500</td>\n",
       "      <td>10.0000</td>\n",
       "      <td>75.24</td>\n",
       "      <td>87</td>\n",
       "      <td>100</td>\n",
       "      <td>6.80</td>\n",
       "      <td>GA</td>\n",
       "      <td>1632887442</td>\n",
       "    </tr>\n",
       "    <tr>\n",
       "      <th>570</th>\n",
       "      <td>pingdu</td>\n",
       "      <td>36.7844</td>\n",
       "      <td>119.9464</td>\n",
       "      <td>72.84</td>\n",
       "      <td>57</td>\n",
       "      <td>13</td>\n",
       "      <td>5.73</td>\n",
       "      <td>CN</td>\n",
       "      <td>1632887442</td>\n",
       "    </tr>\n",
       "    <tr>\n",
       "      <th>571</th>\n",
       "      <td>capitao poco</td>\n",
       "      <td>-1.7464</td>\n",
       "      <td>-47.0594</td>\n",
       "      <td>71.11</td>\n",
       "      <td>98</td>\n",
       "      <td>17</td>\n",
       "      <td>4.16</td>\n",
       "      <td>BR</td>\n",
       "      <td>1632887443</td>\n",
       "    </tr>\n",
       "    <tr>\n",
       "      <th>572</th>\n",
       "      <td>mulchen</td>\n",
       "      <td>-37.7167</td>\n",
       "      <td>-72.2333</td>\n",
       "      <td>42.17</td>\n",
       "      <td>80</td>\n",
       "      <td>48</td>\n",
       "      <td>1.70</td>\n",
       "      <td>CL</td>\n",
       "      <td>1632887443</td>\n",
       "    </tr>\n",
       "    <tr>\n",
       "      <th>573</th>\n",
       "      <td>kieta</td>\n",
       "      <td>-6.2167</td>\n",
       "      <td>155.6333</td>\n",
       "      <td>84.00</td>\n",
       "      <td>76</td>\n",
       "      <td>97</td>\n",
       "      <td>6.64</td>\n",
       "      <td>PG</td>\n",
       "      <td>1632887444</td>\n",
       "    </tr>\n",
       "  </tbody>\n",
       "</table>\n",
       "<p>574 rows × 9 columns</p>\n",
       "</div>"
      ],
      "text/plain": [
       "               City      Lat       Lng  Max Temp  Humidity  Cloudiness  \\\n",
       "0           aklavik  68.2191 -135.0107     32.83        93         100   \n",
       "1    port elizabeth -33.9180   25.5701     57.49        72           0   \n",
       "2           shakawe -18.3667   21.8500     66.34        25          21   \n",
       "3        butaritari   3.0707  172.7902     83.28        74          73   \n",
       "4      port-cartier  50.0334  -66.8654     43.75        82          93   \n",
       "..              ...      ...       ...       ...       ...         ...   \n",
       "569           gamba  -2.6500   10.0000     75.24        87         100   \n",
       "570          pingdu  36.7844  119.9464     72.84        57          13   \n",
       "571    capitao poco  -1.7464  -47.0594     71.11        98          17   \n",
       "572         mulchen -37.7167  -72.2333     42.17        80          48   \n",
       "573           kieta  -6.2167  155.6333     84.00        76          97   \n",
       "\n",
       "     Wind Speed Country        Date  \n",
       "0         20.76      CA  1632887227  \n",
       "1         11.50      ZA  1632887016  \n",
       "2          5.84      BW  1632887228  \n",
       "3         18.34      KI  1632886986  \n",
       "4          4.32      CA  1632887229  \n",
       "..          ...     ...         ...  \n",
       "569        6.80      GA  1632887442  \n",
       "570        5.73      CN  1632887442  \n",
       "571        4.16      BR  1632887443  \n",
       "572        1.70      CL  1632887443  \n",
       "573        6.64      PG  1632887444  \n",
       "\n",
       "[574 rows x 9 columns]"
      ]
     },
     "execution_count": 9,
     "metadata": {},
     "output_type": "execute_result"
    }
   ],
   "source": [
    "# Create DataFrame with raw data (list of dictionaries) from API call\n",
    "city_weather_df = pd.DataFrame(city_weather)\n",
    "\n",
    "# Display DataFrame\n",
    "city_weather_df"
   ]
  },
  {
   "cell_type": "code",
   "execution_count": 10,
   "metadata": {},
   "outputs": [
    {
     "data": {
      "text/html": [
       "<div>\n",
       "<style scoped>\n",
       "    .dataframe tbody tr th:only-of-type {\n",
       "        vertical-align: middle;\n",
       "    }\n",
       "\n",
       "    .dataframe tbody tr th {\n",
       "        vertical-align: top;\n",
       "    }\n",
       "\n",
       "    .dataframe thead th {\n",
       "        text-align: right;\n",
       "    }\n",
       "</style>\n",
       "<table border=\"1\" class=\"dataframe\">\n",
       "  <thead>\n",
       "    <tr style=\"text-align: right;\">\n",
       "      <th></th>\n",
       "      <th>City</th>\n",
       "      <th>Lat</th>\n",
       "      <th>Lng</th>\n",
       "      <th>Max Temp</th>\n",
       "      <th>Humidity</th>\n",
       "      <th>Cloudiness</th>\n",
       "      <th>Wind Speed</th>\n",
       "      <th>Country</th>\n",
       "      <th>Date</th>\n",
       "    </tr>\n",
       "  </thead>\n",
       "  <tbody>\n",
       "    <tr>\n",
       "      <th>0</th>\n",
       "      <td>aklavik</td>\n",
       "      <td>68.22</td>\n",
       "      <td>-135.01</td>\n",
       "      <td>32.83</td>\n",
       "      <td>93</td>\n",
       "      <td>100</td>\n",
       "      <td>20.76</td>\n",
       "      <td>CA</td>\n",
       "      <td>1632887227</td>\n",
       "    </tr>\n",
       "    <tr>\n",
       "      <th>1</th>\n",
       "      <td>port elizabeth</td>\n",
       "      <td>-33.92</td>\n",
       "      <td>25.57</td>\n",
       "      <td>57.49</td>\n",
       "      <td>72</td>\n",
       "      <td>0</td>\n",
       "      <td>11.50</td>\n",
       "      <td>ZA</td>\n",
       "      <td>1632887016</td>\n",
       "    </tr>\n",
       "    <tr>\n",
       "      <th>2</th>\n",
       "      <td>shakawe</td>\n",
       "      <td>-18.37</td>\n",
       "      <td>21.85</td>\n",
       "      <td>66.34</td>\n",
       "      <td>25</td>\n",
       "      <td>21</td>\n",
       "      <td>5.84</td>\n",
       "      <td>BW</td>\n",
       "      <td>1632887228</td>\n",
       "    </tr>\n",
       "    <tr>\n",
       "      <th>3</th>\n",
       "      <td>butaritari</td>\n",
       "      <td>3.07</td>\n",
       "      <td>172.79</td>\n",
       "      <td>83.28</td>\n",
       "      <td>74</td>\n",
       "      <td>73</td>\n",
       "      <td>18.34</td>\n",
       "      <td>KI</td>\n",
       "      <td>1632886986</td>\n",
       "    </tr>\n",
       "    <tr>\n",
       "      <th>4</th>\n",
       "      <td>port-cartier</td>\n",
       "      <td>50.03</td>\n",
       "      <td>-66.87</td>\n",
       "      <td>43.75</td>\n",
       "      <td>82</td>\n",
       "      <td>93</td>\n",
       "      <td>4.32</td>\n",
       "      <td>CA</td>\n",
       "      <td>1632887229</td>\n",
       "    </tr>\n",
       "    <tr>\n",
       "      <th>...</th>\n",
       "      <td>...</td>\n",
       "      <td>...</td>\n",
       "      <td>...</td>\n",
       "      <td>...</td>\n",
       "      <td>...</td>\n",
       "      <td>...</td>\n",
       "      <td>...</td>\n",
       "      <td>...</td>\n",
       "      <td>...</td>\n",
       "    </tr>\n",
       "    <tr>\n",
       "      <th>569</th>\n",
       "      <td>gamba</td>\n",
       "      <td>-2.65</td>\n",
       "      <td>10.00</td>\n",
       "      <td>75.24</td>\n",
       "      <td>87</td>\n",
       "      <td>100</td>\n",
       "      <td>6.80</td>\n",
       "      <td>GA</td>\n",
       "      <td>1632887442</td>\n",
       "    </tr>\n",
       "    <tr>\n",
       "      <th>570</th>\n",
       "      <td>pingdu</td>\n",
       "      <td>36.78</td>\n",
       "      <td>119.95</td>\n",
       "      <td>72.84</td>\n",
       "      <td>57</td>\n",
       "      <td>13</td>\n",
       "      <td>5.73</td>\n",
       "      <td>CN</td>\n",
       "      <td>1632887442</td>\n",
       "    </tr>\n",
       "    <tr>\n",
       "      <th>571</th>\n",
       "      <td>capitao poco</td>\n",
       "      <td>-1.75</td>\n",
       "      <td>-47.06</td>\n",
       "      <td>71.11</td>\n",
       "      <td>98</td>\n",
       "      <td>17</td>\n",
       "      <td>4.16</td>\n",
       "      <td>BR</td>\n",
       "      <td>1632887443</td>\n",
       "    </tr>\n",
       "    <tr>\n",
       "      <th>572</th>\n",
       "      <td>mulchen</td>\n",
       "      <td>-37.72</td>\n",
       "      <td>-72.23</td>\n",
       "      <td>42.17</td>\n",
       "      <td>80</td>\n",
       "      <td>48</td>\n",
       "      <td>1.70</td>\n",
       "      <td>CL</td>\n",
       "      <td>1632887443</td>\n",
       "    </tr>\n",
       "    <tr>\n",
       "      <th>573</th>\n",
       "      <td>kieta</td>\n",
       "      <td>-6.22</td>\n",
       "      <td>155.63</td>\n",
       "      <td>84.00</td>\n",
       "      <td>76</td>\n",
       "      <td>97</td>\n",
       "      <td>6.64</td>\n",
       "      <td>PG</td>\n",
       "      <td>1632887444</td>\n",
       "    </tr>\n",
       "  </tbody>\n",
       "</table>\n",
       "<p>574 rows × 9 columns</p>\n",
       "</div>"
      ],
      "text/plain": [
       "               City    Lat     Lng  Max Temp  Humidity  Cloudiness  \\\n",
       "0           aklavik  68.22 -135.01     32.83        93         100   \n",
       "1    port elizabeth -33.92   25.57     57.49        72           0   \n",
       "2           shakawe -18.37   21.85     66.34        25          21   \n",
       "3        butaritari   3.07  172.79     83.28        74          73   \n",
       "4      port-cartier  50.03  -66.87     43.75        82          93   \n",
       "..              ...    ...     ...       ...       ...         ...   \n",
       "569           gamba  -2.65   10.00     75.24        87         100   \n",
       "570          pingdu  36.78  119.95     72.84        57          13   \n",
       "571    capitao poco  -1.75  -47.06     71.11        98          17   \n",
       "572         mulchen -37.72  -72.23     42.17        80          48   \n",
       "573           kieta  -6.22  155.63     84.00        76          97   \n",
       "\n",
       "     Wind Speed Country        Date  \n",
       "0         20.76      CA  1632887227  \n",
       "1         11.50      ZA  1632887016  \n",
       "2          5.84      BW  1632887228  \n",
       "3         18.34      KI  1632886986  \n",
       "4          4.32      CA  1632887229  \n",
       "..          ...     ...         ...  \n",
       "569        6.80      GA  1632887442  \n",
       "570        5.73      CN  1632887442  \n",
       "571        4.16      BR  1632887443  \n",
       "572        1.70      CL  1632887443  \n",
       "573        6.64      PG  1632887444  \n",
       "\n",
       "[574 rows x 9 columns]"
      ]
     },
     "execution_count": 10,
     "metadata": {},
     "output_type": "execute_result"
    }
   ],
   "source": [
    "# Round Lat and Lng to 2 decimal places\n",
    "city_weather_df['Lat'] = round(city_weather_df['Lat'],2)\n",
    "city_weather_df['Lng'] = round(city_weather_df['Lng'],2)\n",
    "\n",
    "city_weather_df"
   ]
  },
  {
   "cell_type": "code",
   "execution_count": 11,
   "metadata": {},
   "outputs": [],
   "source": [
    "# Save DataFrame to .csv\n",
    "city_weather_df.to_csv('data/city_weather_data.csv')"
   ]
  },
  {
   "cell_type": "code",
   "execution_count": 12,
   "metadata": {},
   "outputs": [
    {
     "data": {
      "text/html": [
       "<div>\n",
       "<style scoped>\n",
       "    .dataframe tbody tr th:only-of-type {\n",
       "        vertical-align: middle;\n",
       "    }\n",
       "\n",
       "    .dataframe tbody tr th {\n",
       "        vertical-align: top;\n",
       "    }\n",
       "\n",
       "    .dataframe thead th {\n",
       "        text-align: right;\n",
       "    }\n",
       "</style>\n",
       "<table border=\"1\" class=\"dataframe\">\n",
       "  <thead>\n",
       "    <tr style=\"text-align: right;\">\n",
       "      <th></th>\n",
       "      <th>Lat</th>\n",
       "      <th>Lng</th>\n",
       "      <th>Max Temp</th>\n",
       "      <th>Humidity</th>\n",
       "      <th>Cloudiness</th>\n",
       "      <th>Wind Speed</th>\n",
       "      <th>Date</th>\n",
       "    </tr>\n",
       "  </thead>\n",
       "  <tbody>\n",
       "    <tr>\n",
       "      <th>count</th>\n",
       "      <td>574.000000</td>\n",
       "      <td>574.000000</td>\n",
       "      <td>574.000000</td>\n",
       "      <td>574.000000</td>\n",
       "      <td>574.000000</td>\n",
       "      <td>574.000000</td>\n",
       "      <td>5.740000e+02</td>\n",
       "    </tr>\n",
       "    <tr>\n",
       "      <th>mean</th>\n",
       "      <td>18.752282</td>\n",
       "      <td>18.633937</td>\n",
       "      <td>65.003345</td>\n",
       "      <td>71.540070</td>\n",
       "      <td>53.393728</td>\n",
       "      <td>7.462422</td>\n",
       "      <td>1.632887e+09</td>\n",
       "    </tr>\n",
       "    <tr>\n",
       "      <th>std</th>\n",
       "      <td>33.161284</td>\n",
       "      <td>89.809944</td>\n",
       "      <td>16.948833</td>\n",
       "      <td>20.158559</td>\n",
       "      <td>38.924077</td>\n",
       "      <td>5.677811</td>\n",
       "      <td>1.066476e+02</td>\n",
       "    </tr>\n",
       "    <tr>\n",
       "      <th>min</th>\n",
       "      <td>-54.800000</td>\n",
       "      <td>-175.200000</td>\n",
       "      <td>23.720000</td>\n",
       "      <td>10.000000</td>\n",
       "      <td>0.000000</td>\n",
       "      <td>0.000000</td>\n",
       "      <td>1.632887e+09</td>\n",
       "    </tr>\n",
       "    <tr>\n",
       "      <th>25%</th>\n",
       "      <td>-8.155000</td>\n",
       "      <td>-56.677500</td>\n",
       "      <td>51.860000</td>\n",
       "      <td>62.000000</td>\n",
       "      <td>12.000000</td>\n",
       "      <td>3.357500</td>\n",
       "      <td>1.632887e+09</td>\n",
       "    </tr>\n",
       "    <tr>\n",
       "      <th>50%</th>\n",
       "      <td>21.125000</td>\n",
       "      <td>23.350000</td>\n",
       "      <td>69.200000</td>\n",
       "      <td>75.000000</td>\n",
       "      <td>61.000000</td>\n",
       "      <td>5.840000</td>\n",
       "      <td>1.632887e+09</td>\n",
       "    </tr>\n",
       "    <tr>\n",
       "      <th>75%</th>\n",
       "      <td>47.957500</td>\n",
       "      <td>98.097500</td>\n",
       "      <td>78.742500</td>\n",
       "      <td>87.000000</td>\n",
       "      <td>93.000000</td>\n",
       "      <td>10.360000</td>\n",
       "      <td>1.632887e+09</td>\n",
       "    </tr>\n",
       "    <tr>\n",
       "      <th>max</th>\n",
       "      <td>78.220000</td>\n",
       "      <td>172.790000</td>\n",
       "      <td>98.580000</td>\n",
       "      <td>100.000000</td>\n",
       "      <td>100.000000</td>\n",
       "      <td>40.290000</td>\n",
       "      <td>1.632887e+09</td>\n",
       "    </tr>\n",
       "  </tbody>\n",
       "</table>\n",
       "</div>"
      ],
      "text/plain": [
       "              Lat         Lng    Max Temp    Humidity  Cloudiness  Wind Speed  \\\n",
       "count  574.000000  574.000000  574.000000  574.000000  574.000000  574.000000   \n",
       "mean    18.752282   18.633937   65.003345   71.540070   53.393728    7.462422   \n",
       "std     33.161284   89.809944   16.948833   20.158559   38.924077    5.677811   \n",
       "min    -54.800000 -175.200000   23.720000   10.000000    0.000000    0.000000   \n",
       "25%     -8.155000  -56.677500   51.860000   62.000000   12.000000    3.357500   \n",
       "50%     21.125000   23.350000   69.200000   75.000000   61.000000    5.840000   \n",
       "75%     47.957500   98.097500   78.742500   87.000000   93.000000   10.360000   \n",
       "max     78.220000  172.790000   98.580000  100.000000  100.000000   40.290000   \n",
       "\n",
       "               Date  \n",
       "count  5.740000e+02  \n",
       "mean   1.632887e+09  \n",
       "std    1.066476e+02  \n",
       "min    1.632887e+09  \n",
       "25%    1.632887e+09  \n",
       "50%    1.632887e+09  \n",
       "75%    1.632887e+09  \n",
       "max    1.632887e+09  "
      ]
     },
     "execution_count": 12,
     "metadata": {},
     "output_type": "execute_result"
    }
   ],
   "source": [
    "# Create and Display summary DataFrame\n",
    "summary_df = city_weather_df.describe()\n",
    "summary_df"
   ]
  },
  {
   "cell_type": "markdown",
   "metadata": {},
   "source": [
    "## Inspect the data and remove the cities where the humidity > 100%.\n",
    "----\n",
    "Skip this step if there are no cities that have humidity > 100%. "
   ]
  },
  {
   "cell_type": "code",
   "execution_count": null,
   "metadata": {},
   "outputs": [],
   "source": []
  },
  {
   "cell_type": "code",
   "execution_count": 13,
   "metadata": {},
   "outputs": [
    {
     "name": "stdout",
     "output_type": "stream",
     "text": [
      "Nothing to drop\n"
     ]
    }
   ],
   "source": [
    "# Initializing count and empty list to store indexes\n",
    "count = 0\n",
    "humidity_indexes_to_drop = []\n",
    "\n",
    "# Find all Indexes with Humidity over 100%\n",
    "for value in city_weather_df['Humidity']:\n",
    "    if value > 100 == True:\n",
    "        humidity_indexes_to_drop.append(count)\n",
    "        count += 1\n",
    "    else:\n",
    "        count += 1\n",
    "\n",
    "# Display indexes to drop\n",
    "if humidity_indexes_to_drop == []:\n",
    "    print('Nothing to drop')\n",
    "else:\n",
    "    print(f'Drop indexes {humidity_indexes_to_drop}')\n"
   ]
  },
  {
   "cell_type": "code",
   "execution_count": 14,
   "metadata": {},
   "outputs": [],
   "source": [
    "# Make a new DataFrame equal to the city data to drop all humidity outliers by index.\n",
    "# Passing \"inplace=False\" will make a copy of the city_data DataFrame, which we call \"clean_city_data\".\n",
    "\n",
    "#Skipped since no outlier values"
   ]
  },
  {
   "cell_type": "markdown",
   "metadata": {},
   "source": [
    "## Plotting the Data\n",
    "* Use proper labeling of the plots using plot titles (including date of analysis) and axes labels.\n",
    "* Save the plotted figures as .pngs."
   ]
  },
  {
   "cell_type": "markdown",
   "metadata": {},
   "source": [
    "## Latitude vs. Temperature Plot"
   ]
  },
  {
   "cell_type": "code",
   "execution_count": 15,
   "metadata": {
    "scrolled": true
   },
   "outputs": [
    {
     "data": {
      "image/png": "[encoded data removed]",
      "text/plain": [
       "<Figure size 432x288 with 1 Axes>"
      ]
     },
     "metadata": {
      "needs_background": "light"
     },
     "output_type": "display_data"
    }
   ],
   "source": [
    "x_values = city_weather_df['Lat']\n",
    "y_values = city_weather_df['Max Temp']\n",
    "plt.scatter(x_values,y_values, edgecolors=\"black\")\n",
    "plt.title('City Latitude vs. Temperature (09/27/21)')\n",
    "plt.xlabel('Latitude')\n",
    "plt.ylabel('Temperature (F)')\n",
    "plt.grid(b=True, axis='both')\n",
    "plt.tight_layout()\n",
    "plt.savefig(\"images/lat_temp.png\")\n",
    "plt.show()"
   ]
  },
  {
   "cell_type": "markdown",
   "metadata": {},
   "source": [
    "The above scatter plot shows the relationship between temperature and latitude. When latidute is equal to 0 you are at the equator which experiences the highest temperatures. Temperatures decrease as you go further North or South. This is likely a negative parabolic relationship."
   ]
  },
  {
   "cell_type": "markdown",
   "metadata": {},
   "source": [
    "## Latitude vs. Humidity Plot"
   ]
  },
  {
   "cell_type": "code",
   "execution_count": 16,
   "metadata": {},
   "outputs": [
    {
     "data": {
      "image/png": "[encoded data removed]",
      "text/plain": [
       "<Figure size 432x288 with 1 Axes>"
      ]
     },
     "metadata": {
      "needs_background": "light"
     },
     "output_type": "display_data"
    }
   ],
   "source": [
    "x_values = city_weather_df['Lat']\n",
    "y_values = city_weather_df['Humidity']\n",
    "plt.scatter(x_values,y_values, edgecolors=\"black\")\n",
    "plt.title('City Latitude vs. Humidity (09/27/21)')\n",
    "plt.xlabel('Latitude')\n",
    "plt.ylabel('Humidity (%)')\n",
    "plt.grid(b=True, axis='both')\n",
    "plt.tight_layout()\n",
    "plt.savefig(\"images/lat_humidity.png\")\n",
    "plt.show()"
   ]
  },
  {
   "cell_type": "markdown",
   "metadata": {},
   "source": [
    "The above scatter plot shows the relationship between Latitude and humidity. This shows that at any latitude, based on the cities evaluated, you can have a wide range of humidity % with the majority of locations tending towards a higher humid index."
   ]
  },
  {
   "cell_type": "markdown",
   "metadata": {},
   "source": [
    "## Latitude vs. Cloudiness Plot"
   ]
  },
  {
   "cell_type": "code",
   "execution_count": 17,
   "metadata": {},
   "outputs": [
    {
     "data": {
      "image/png": "[encoded data removed]",
      "text/plain": [
       "<Figure size 432x288 with 1 Axes>"
      ]
     },
     "metadata": {
      "needs_background": "light"
     },
     "output_type": "display_data"
    }
   ],
   "source": [
    "x_values = city_weather_df['Lat']\n",
    "y_values = city_weather_df['Cloudiness']\n",
    "plt.scatter(x_values,y_values, edgecolors=\"black\")\n",
    "plt.title('City Latitude vs. Cloudiness (09/27/21)')\n",
    "plt.xlabel('Latitude')\n",
    "plt.ylabel('Cloudiness (%)')\n",
    "plt.grid(b=True, axis='both')\n",
    "plt.tight_layout()\n",
    "plt.savefig(\"images/lat_cloudiness.png\")\n",
    "plt.show()"
   ]
  },
  {
   "cell_type": "markdown",
   "metadata": {},
   "source": [
    "The above scatter plot shows the relationship between Latitude and cloudiness. This shows that at any latitude, based on the cities evaluated, you can have a wide range of cloudiness. There is a slight tendancy for locations from -40 to -20 and 20 to 40 latitude to have low cloudiness, -20 to 20 and 40 to 60 to have very high cloudiness."
   ]
  },
  {
   "cell_type": "markdown",
   "metadata": {},
   "source": [
    "## Latitude vs. Wind Speed Plot"
   ]
  },
  {
   "cell_type": "code",
   "execution_count": 18,
   "metadata": {},
   "outputs": [
    {
     "data": {
      "image/png": "[encoded data removed]",
      "text/plain": [
       "<Figure size 432x288 with 1 Axes>"
      ]
     },
     "metadata": {
      "needs_background": "light"
     },
     "output_type": "display_data"
    }
   ],
   "source": [
    "x_values = city_weather_df['Lat']\n",
    "y_values = city_weather_df['Wind Speed']\n",
    "plt.scatter(x_values,y_values, edgecolors=\"black\")\n",
    "plt.title('City Latitude vs. Wind Speed (09/27/21)')\n",
    "plt.xlabel('Latitude')\n",
    "plt.ylabel('Wind Speed (mph)')\n",
    "plt.grid(b=True, axis='both')\n",
    "plt.tight_layout()\n",
    "plt.savefig(\"images/lat_windspeed.png\")\n",
    "plt.show()"
   ]
  },
  {
   "cell_type": "markdown",
   "metadata": {},
   "source": [
    "The above scatter plot shows the relationship between Latitude and wind speeds. This shows that across all latitudes, wind speed does not tend to go above 25 mph in September for the citites selected. "
   ]
  },
  {
   "cell_type": "markdown",
   "metadata": {},
   "source": [
    "## Linear Regression"
   ]
  },
  {
   "cell_type": "code",
   "execution_count": 19,
   "metadata": {},
   "outputs": [],
   "source": [
    "# Create bins for different Hemispheres\n",
    "bins = [-90, -.1, 90]\n",
    "\n",
    "group_names = ['Southern Hemisphere', 'Northern Hemisphere']\n",
    "\n",
    "city_weather_df[\"Hemisphere\"] = pd.cut(city_weather_df['Lat'], bins, \n",
    "                                  labels=group_names, include_lowest=True)\n",
    "\n",
    "#Filter by the bins\n",
    "north_df = city_weather_df[city_weather_df['Hemisphere']==\"Northern Hemisphere\"]\n",
    "south_df = city_weather_df[city_weather_df['Hemisphere']==\"Southern Hemisphere\"]"
   ]
  },
  {
   "cell_type": "markdown",
   "metadata": {},
   "source": [
    "####  Northern Hemisphere - Max Temp vs. Latitude Linear Regression"
   ]
  },
  {
   "cell_type": "code",
   "execution_count": 20,
   "metadata": {},
   "outputs": [
    {
     "name": "stdout",
     "output_type": "stream",
     "text": [
      "The r-value is: -0.8509984102754785\n"
     ]
    },
    {
     "data": {
      "image/png": "[encoded data removed]",
      "text/plain": [
       "<Figure size 432x288 with 1 Axes>"
      ]
     },
     "metadata": {
      "needs_background": "light"
     },
     "output_type": "display_data"
    }
   ],
   "source": [
    "x_values = north_df['Lat']\n",
    "y_values = north_df['Max Temp']\n",
    "(slope, intercept, rvalue, pvalue, stderr) = linregress(x_values, y_values)\n",
    "regress_values = x_values * slope + intercept\n",
    "line_eq = \"y = \" + str(round(slope,2)) + \"x + \" + str(round(intercept,2))\n",
    "plt.scatter(x_values,y_values)\n",
    "plt.plot(x_values,regress_values,\"r-\")\n",
    "plt.annotate(line_eq,(10,40),fontsize=15,color=\"red\")\n",
    "plt.xlabel('Latitude')\n",
    "plt.ylabel('Max Temp (F)')\n",
    "print(f\"The r-value is: {rvalue}\")\n",
    "plt.savefig(\"images/north_lat_maxtemp_regression.png\")\n",
    "plt.show()"
   ]
  },
  {
   "cell_type": "markdown",
   "metadata": {},
   "source": [
    "This plot shows that temperature and latitude in the northern hemisphere has a strong negative coorelation. The further North you go away from the equater, the lower temperatures drop in the month of September."
   ]
  },
  {
   "cell_type": "markdown",
   "metadata": {},
   "source": [
    "####  Southern Hemisphere - Max Temp vs. Latitude Linear Regression"
   ]
  },
  {
   "cell_type": "code",
   "execution_count": 21,
   "metadata": {},
   "outputs": [
    {
     "name": "stdout",
     "output_type": "stream",
     "text": [
      "The r-value is: 0.6780964867118411\n"
     ]
    },
    {
     "data": {
      "image/png": "[encoded data removed]",
      "text/plain": [
       "<Figure size 432x288 with 1 Axes>"
      ]
     },
     "metadata": {
      "needs_background": "light"
     },
     "output_type": "display_data"
    }
   ],
   "source": [
    "x_values = south_df['Lat']\n",
    "y_values = south_df['Max Temp']\n",
    "(slope, intercept, rvalue, pvalue, stderr) = linregress(x_values, y_values)\n",
    "regress_values = x_values * slope + intercept\n",
    "line_eq = \"y = \" + str(round(slope,2)) + \"x + \" + str(round(intercept,2))\n",
    "plt.scatter(x_values,y_values)\n",
    "plt.plot(x_values,regress_values,\"r-\")\n",
    "plt.annotate(line_eq,(-50,80),fontsize=15,color=\"red\")\n",
    "plt.xlabel('Latitude')\n",
    "plt.ylabel('Max Temp (F)')\n",
    "print(f\"The r-value is: {rvalue}\")\n",
    "plt.savefig(\"images/south_lat_maxtemp_regression.png\")\n",
    "plt.show()"
   ]
  },
  {
   "cell_type": "markdown",
   "metadata": {},
   "source": [
    "This plot shows that temperature and latitude in the southern hemisphere has a strong positive coorelation. The further North you go towards the equater, the higher temperatures increase in the month of September."
   ]
  },
  {
   "cell_type": "markdown",
   "metadata": {},
   "source": [
    "####  Northern Hemisphere - Humidity (%) vs. Latitude Linear Regression"
   ]
  },
  {
   "cell_type": "code",
   "execution_count": 22,
   "metadata": {},
   "outputs": [
    {
     "name": "stdout",
     "output_type": "stream",
     "text": [
      "The r-value is: 0.03752695234581949\n"
     ]
    },
    {
     "data": {
      "image/png": "[encoded data removed]",
      "text/plain": [
       "<Figure size 432x288 with 1 Axes>"
      ]
     },
     "metadata": {
      "needs_background": "light"
     },
     "output_type": "display_data"
    }
   ],
   "source": [
    "x_values = north_df['Lat']\n",
    "y_values = north_df['Humidity']\n",
    "(slope, intercept, rvalue, pvalue, stderr) = linregress(x_values, y_values)\n",
    "regress_values = x_values * slope + intercept\n",
    "line_eq = \"y = \" + str(round(slope,2)) + \"x + \" + str(round(intercept,2))\n",
    "plt.scatter(x_values,y_values)\n",
    "plt.plot(x_values,regress_values,\"r-\")\n",
    "plt.annotate(line_eq,(10,40),fontsize=15,color=\"red\")\n",
    "plt.xlabel('Latitude')\n",
    "plt.ylabel('Humidity (%)')\n",
    "print(f\"The r-value is: {rvalue}\")\n",
    "plt.savefig(\"images/north_lat_humidity_regression.png\")\n",
    "plt.show()"
   ]
  },
  {
   "cell_type": "markdown",
   "metadata": {},
   "source": [
    "This plot shows that there is a very weak correlation between Humidity and Latitude in the Northern Hemisphwere."
   ]
  },
  {
   "cell_type": "markdown",
   "metadata": {},
   "source": [
    "####  Southern Hemisphere - Humidity (%) vs. Latitude Linear Regression"
   ]
  },
  {
   "cell_type": "code",
   "execution_count": 28,
   "metadata": {},
   "outputs": [
    {
     "name": "stdout",
     "output_type": "stream",
     "text": [
      "The r-value is: 0.10593058004099158\n"
     ]
    },
    {
     "data": {
      "image/png": "[encoded data removed]",
      "text/plain": [
       "<Figure size 432x288 with 1 Axes>"
      ]
     },
     "metadata": {
      "needs_background": "light"
     },
     "output_type": "display_data"
    }
   ],
   "source": [
    "x_values = south_df['Lat']\n",
    "y_values = south_df['Humidity']\n",
    "(slope, intercept, rvalue, pvalue, stderr) = linregress(x_values, y_values)\n",
    "regress_values = x_values * slope + intercept\n",
    "line_eq = \"y = \" + str(round(slope,2)) + \"x + \" + str(round(intercept,2))\n",
    "plt.scatter(x_values,y_values)\n",
    "plt.plot(x_values,regress_values,\"r-\")\n",
    "plt.annotate(line_eq,(-50,80),fontsize=15,color=\"red\")\n",
    "plt.xlabel('Latitude')\n",
    "plt.ylabel('Humidity (%)')\n",
    "print(f\"The r-value is: {rvalue}\")\n",
    "plt.savefig(\"images/south_lat_humidity_regression.png\")\n",
    "plt.show()"
   ]
  },
  {
   "cell_type": "markdown",
   "metadata": {},
   "source": [
    "This plot shows that there is a weak correlation between Humidity and Latitude in the Southern Hemisphwere."
   ]
  },
  {
   "cell_type": "markdown",
   "metadata": {},
   "source": [
    "####  Northern Hemisphere - Cloudiness (%) vs. Latitude Linear Regression"
   ]
  },
  {
   "cell_type": "code",
   "execution_count": 24,
   "metadata": {},
   "outputs": [
    {
     "name": "stdout",
     "output_type": "stream",
     "text": [
      "The r-value is: 0.10692171720632192\n"
     ]
    },
    {
     "data": {
      "image/png": "[encoded data removed]",
      "text/plain": [
       "<Figure size 432x288 with 1 Axes>"
      ]
     },
     "metadata": {
      "needs_background": "light"
     },
     "output_type": "display_data"
    }
   ],
   "source": [
    "x_values = north_df['Lat']\n",
    "y_values = north_df['Cloudiness']\n",
    "(slope, intercept, rvalue, pvalue, stderr) = linregress(x_values, y_values)\n",
    "regress_values = x_values * slope + intercept\n",
    "line_eq = \"y = \" + str(round(slope,2)) + \"x + \" + str(round(intercept,2))\n",
    "plt.scatter(x_values,y_values)\n",
    "plt.plot(x_values,regress_values,\"r-\")\n",
    "plt.annotate(line_eq,(10,40),fontsize=15,color=\"red\")\n",
    "plt.xlabel('Latitude')\n",
    "plt.ylabel('Cloudiness (%)')\n",
    "print(f\"The r-value is: {rvalue}\")\n",
    "plt.savefig(\"images/north_lat_cloudiness_regression.png\")\n",
    "plt.show()"
   ]
  },
  {
   "cell_type": "markdown",
   "metadata": {},
   "source": [
    "This plot shows that there is a weak correlation between Cloudiness and Latitude in the Northern Hemisphwere."
   ]
  },
  {
   "cell_type": "markdown",
   "metadata": {},
   "source": [
    "####  Southern Hemisphere - Cloudiness (%) vs. Latitude Linear Regression"
   ]
  },
  {
   "cell_type": "code",
   "execution_count": 29,
   "metadata": {},
   "outputs": [
    {
     "name": "stdout",
     "output_type": "stream",
     "text": [
      "The r-value is: 0.03473978348749597\n"
     ]
    },
    {
     "data": {
      "image/png": "[encoded data removed]",
      "text/plain": [
       "<Figure size 432x288 with 1 Axes>"
      ]
     },
     "metadata": {
      "needs_background": "light"
     },
     "output_type": "display_data"
    }
   ],
   "source": [
    "x_values = south_df['Lat']\n",
    "y_values = south_df['Cloudiness']\n",
    "(slope, intercept, rvalue, pvalue, stderr) = linregress(x_values, y_values)\n",
    "regress_values = x_values * slope + intercept\n",
    "line_eq = \"y = \" + str(round(slope,2)) + \"x + \" + str(round(intercept,2))\n",
    "plt.scatter(x_values,y_values)\n",
    "plt.plot(x_values,regress_values,\"r-\")\n",
    "plt.annotate(line_eq,(-50,80),fontsize=15,color=\"red\")\n",
    "plt.xlabel('Latitude')\n",
    "plt.ylabel('Cloudiness (%)')\n",
    "print(f\"The r-value is: {rvalue}\")\n",
    "plt.savefig(\"images/south_lat_cloudiness_regression.png\")\n",
    "plt.show()"
   ]
  },
  {
   "cell_type": "markdown",
   "metadata": {},
   "source": [
    "This plot shows that there is a very weak correlation between Cloudiness and Latitude in the Southern Hemisphwere."
   ]
  },
  {
   "cell_type": "markdown",
   "metadata": {},
   "source": [
    "####  Northern Hemisphere - Wind Speed (mph) vs. Latitude Linear Regression"
   ]
  },
  {
   "cell_type": "code",
   "execution_count": 30,
   "metadata": {},
   "outputs": [
    {
     "name": "stdout",
     "output_type": "stream",
     "text": [
      "The r-value is: 0.12917000389613115\n"
     ]
    },
    {
     "data": {
      "image/png": "[encoded data removed]",
      "text/plain": [
       "<Figure size 432x288 with 1 Axes>"
      ]
     },
     "metadata": {
      "needs_background": "light"
     },
     "output_type": "display_data"
    }
   ],
   "source": [
    "x_values = north_df['Lat']\n",
    "y_values = north_df['Wind Speed']\n",
    "(slope, intercept, rvalue, pvalue, stderr) = linregress(x_values, y_values)\n",
    "regress_values = x_values * slope + intercept\n",
    "line_eq = \"y = \" + str(round(slope,2)) + \"x + \" + str(round(intercept,2))\n",
    "plt.scatter(x_values,y_values)\n",
    "plt.plot(x_values,regress_values,\"r-\")\n",
    "plt.annotate(line_eq,(10,25),fontsize=15,color=\"red\")\n",
    "plt.xlabel('Latitude')\n",
    "plt.ylabel('Wind Speed (mph)')\n",
    "print(f\"The r-value is: {rvalue}\")\n",
    "plt.savefig(\"images/north_lat_windspeed_regression.png\")\n",
    "plt.show()"
   ]
  },
  {
   "cell_type": "markdown",
   "metadata": {},
   "source": [
    "This plot shows that there is a weak correlation between Windspeeds and Latitude in the Northern Hemisphwere."
   ]
  },
  {
   "cell_type": "markdown",
   "metadata": {},
   "source": [
    "####  Southern Hemisphere - Wind Speed (mph) vs. Latitude Linear Regression"
   ]
  },
  {
   "cell_type": "code",
   "execution_count": 32,
   "metadata": {
    "scrolled": true
   },
   "outputs": [
    {
     "name": "stdout",
     "output_type": "stream",
     "text": [
      "The r-value is: -0.22054718992238814\n"
     ]
    },
    {
     "data": {
      "image/png": "[encoded data removed]",
      "text/plain": [
       "<Figure size 432x288 with 1 Axes>"
      ]
     },
     "metadata": {
      "needs_background": "light"
     },
     "output_type": "display_data"
    }
   ],
   "source": [
    "x_values = south_df['Lat']\n",
    "y_values = south_df['Wind Speed']\n",
    "(slope, intercept, rvalue, pvalue, stderr) = linregress(x_values, y_values)\n",
    "regress_values = x_values * slope + intercept\n",
    "line_eq = \"y = \" + str(round(slope,2)) + \"x + \" + str(round(intercept,2))\n",
    "plt.scatter(x_values,y_values)\n",
    "plt.plot(x_values,regress_values,\"r-\")\n",
    "plt.annotate(line_eq,(-50,30),fontsize=15,color=\"red\")\n",
    "plt.xlabel('Latitude')\n",
    "plt.ylabel('Wind Speed (mph)')\n",
    "print(f\"The r-value is: {rvalue}\")\n",
    "plt.savefig(\"images/south_lat_windspeed_regression.png\")\n",
    "plt.show()"
   ]
  },
  {
   "cell_type": "markdown",
   "metadata": {},
   "source": [
    "This plot shows that there is a weak negative correlation between Windspeeds and Latitude in the Southern Hemisphwere."
   ]
  },
  {
   "cell_type": "code",
   "execution_count": null,
   "metadata": {},
   "outputs": [],
   "source": []
  }
 ],
 "metadata": {
  "anaconda-cloud": {},
  "interpreter": {
   "hash": "66e4560b95297e5c2e289fb05a81335740d597e4ed373eede18019de1ec624e0"
  },
  "kernel_info": {
   "name": "python3"
  },
  "kernelspec": {
   "display_name": "Python 3",
   "language": "python",
   "name": "python3"
  },
  "language_info": {
   "codemirror_mode": {
    "name": "ipython",
    "version": 3
   },
   "file_extension": ".py",
   "mimetype": "text/x-python",
   "name": "python",
   "nbconvert_exporter": "python",
   "pygments_lexer": "ipython3",
   "version": "3.6.13"
  },
  "latex_envs": {
   "LaTeX_envs_menu_present": true,
   "autoclose": false,
   "autocomplete": true,
   "bibliofile": "biblio.bib",
   "cite_by": "apalike",
   "current_citInitial": 1,
   "eqLabelWithNumbers": true,
   "eqNumInitial": 1,
   "hotkeys": {
    "equation": "Ctrl-E",
    "itemize": "Ctrl-I"
   },
   "labels_anchors": false,
   "latex_user_defs": false,
   "report_style_numbering": false,
   "user_envs_cfg": false
  },
  "nteract": {
   "version": "0.12.3"
  }
 },
 "nbformat": 4,
 "nbformat_minor": 2
}
